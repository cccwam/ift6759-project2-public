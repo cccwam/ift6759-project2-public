{
 "cells": [
  {
   "cell_type": "markdown",
   "metadata": {},
   "source": [
    "Author: François Mercier\n",
    "\n",
    "Goals: \n",
    "- Analyze differences between monolingual and bilingual corpora\n",
    "- Generate first dataset"
   ]
  },
  {
   "cell_type": "markdown",
   "metadata": {
    "jupyter": {
     "outputs_hidden": true
    }
   },
   "source": [
    "# Imports\n",
    "\n",
    "Additional requirements for this notebook (not part of main requirements)\n",
    "```\n",
    "pip install --no-index matplotlib \n",
    "pip install --no-index scikit-learn\n",
    "pip install --no-index seaborn\n",
    "pip install fastprogress\n",
    "````"
   ]
  },
  {
   "cell_type": "code",
   "execution_count": 12,
   "metadata": {},
   "outputs": [],
   "source": [
    "%matplotlib inline\n",
    "%reload_ext autoreload\n",
    "%autoreload 2"
   ]
  },
  {
   "cell_type": "code",
   "execution_count": 94,
   "metadata": {},
   "outputs": [],
   "source": [
    "import sklearn\n",
    "import matplotlib.pyplot as plt \n",
    "import seaborn as sns\n",
    "from pathlib import Path\n",
    "import pandas as pd\n",
    "import numpy as np\n",
    "import json\n",
    "import pickle\n",
    "\n",
    "from fastprogress import progress_bar"
   ]
  },
  {
   "cell_type": "code",
   "execution_count": 14,
   "metadata": {},
   "outputs": [
    {
     "data": {
      "text/plain": [
       "'2.0.0'"
      ]
     },
     "execution_count": 14,
     "metadata": {},
     "output_type": "execute_result"
    }
   ],
   "source": [
    "from __future__ import absolute_import, division, print_function, unicode_literals\n",
    "\n",
    "import tensorflow as tf\n",
    "tf.__version__"
   ]
  },
  {
   "cell_type": "code",
   "execution_count": 15,
   "metadata": {},
   "outputs": [
    {
     "data": {
      "text/plain": [
       "'2.2.2'"
      ]
     },
     "execution_count": 15,
     "metadata": {},
     "output_type": "execute_result"
    }
   ],
   "source": [
    "import spacy\n",
    "\n",
    "spacy.__version__"
   ]
  },
  {
   "cell_type": "code",
   "execution_count": 16,
   "metadata": {},
   "outputs": [],
   "source": [
    "import sys\n",
    "sys.path.append(\"..\") # Require to have the utilities packages in path\n",
    "from tools import tokenizer"
   ]
  },
  {
   "cell_type": "code",
   "execution_count": 17,
   "metadata": {},
   "outputs": [],
   "source": [
    "pd.set_option('display.max_columns', 999)\n",
    "pd.set_option('display.max_colwidth', 999)\n",
    "pd.set_option('display.max_rows', 999)"
   ]
  },
  {
   "cell_type": "code",
   "execution_count": 18,
   "metadata": {},
   "outputs": [],
   "source": [
    "# python -m spacy download en_core_web_sm\n",
    "tokenizer_en = spacy.load(\"en_core_web_sm\") \n",
    "\n",
    "# Add back the sentencizer because the tokenizer will run without other parts\n",
    "tokenizer_en.add_pipe(tokenizer_en.create_pipe('sentencizer'))\n",
    "\n",
    "# python -m spacy download fr_core_news_sm\n",
    "tokenizer_fr = spacy.load(\"fr_core_news_sm\") \n",
    "\n",
    "# Add back the sentencizer because the tokenizer will run without other parts\n",
    "tokenizer_fr.add_pipe(tokenizer_fr.create_pipe('sentencizer'))\n"
   ]
  },
  {
   "cell_type": "code",
   "execution_count": 19,
   "metadata": {},
   "outputs": [
    {
     "data": {
      "text/plain": [
       "[('tagger', <spacy.pipeline.pipes.Tagger at 0x2b183f19d150>),\n",
       " ('parser', <spacy.pipeline.pipes.DependencyParser at 0x2b1852161fa0>),\n",
       " ('ner', <spacy.pipeline.pipes.EntityRecognizer at 0x2b1852161f30>),\n",
       " ('sentencizer', <spacy.pipeline.pipes.Sentencizer at 0x2b18414c1910>)]"
      ]
     },
     "execution_count": 19,
     "metadata": {},
     "output_type": "execute_result"
    }
   ],
   "source": [
    "tokenizer_en.pipeline"
   ]
  },
  {
   "cell_type": "code",
   "execution_count": 20,
   "metadata": {},
   "outputs": [
    {
     "data": {
      "text/plain": [
       "[PosixPath('/project/cq-training-1/project2/data/unaligned.en'),\n",
       " PosixPath('/project/cq-training-1/project2/data/unaligned.fr'),\n",
       " PosixPath('/project/cq-training-1/project2/data/train.lang2'),\n",
       " PosixPath('/project/cq-training-1/project2/data/train.lang1')]"
      ]
     },
     "execution_count": 20,
     "metadata": {},
     "output_type": "execute_result"
    }
   ],
   "source": [
    "data_path = Path(r\"/project/cq-training-1/project2/data/\")\n",
    "files = list(data_path.glob(\"*\"))\n",
    "files"
   ]
  },
  {
   "cell_type": "markdown",
   "metadata": {},
   "source": [
    "## English corpora"
   ]
  },
  {
   "cell_type": "markdown",
   "metadata": {},
   "source": [
    "# Quick analysis of unaligned_en"
   ]
  },
  {
   "cell_type": "code",
   "execution_count": 22,
   "metadata": {},
   "outputs": [
    {
     "data": {
      "text/html": [
       "<div>\n",
       "<style scoped>\n",
       "    .dataframe tbody tr th:only-of-type {\n",
       "        vertical-align: middle;\n",
       "    }\n",
       "\n",
       "    .dataframe tbody tr th {\n",
       "        vertical-align: top;\n",
       "    }\n",
       "\n",
       "    .dataframe thead th {\n",
       "        text-align: right;\n",
       "    }\n",
       "</style>\n",
       "<table border=\"1\" class=\"dataframe\">\n",
       "  <thead>\n",
       "    <tr style=\"text-align: right;\">\n",
       "      <th></th>\n",
       "      <th>text</th>\n",
       "    </tr>\n",
       "  </thead>\n",
       "  <tbody>\n",
       "    <tr>\n",
       "      <th>count</th>\n",
       "      <td>474000</td>\n",
       "    </tr>\n",
       "    <tr>\n",
       "      <th>unique</th>\n",
       "      <td>466177</td>\n",
       "    </tr>\n",
       "    <tr>\n",
       "      <th>top</th>\n",
       "      <td>I can't tell you how happy I am that you've come to visit us.</td>\n",
       "    </tr>\n",
       "    <tr>\n",
       "      <th>freq</th>\n",
       "      <td>15</td>\n",
       "    </tr>\n",
       "  </tbody>\n",
       "</table>\n",
       "</div>"
      ],
      "text/plain": [
       "                                                                 text\n",
       "count                                                          474000\n",
       "unique                                                         466177\n",
       "top     I can't tell you how happy I am that you've come to visit us.\n",
       "freq                                                               15"
      ]
     },
     "execution_count": 22,
     "metadata": {},
     "output_type": "execute_result"
    }
   ],
   "source": [
    "with open(data_path / \"unaligned.en\", 'r') as f:\n",
    "    unaligned_en = [line.rstrip() for line in f] # Remove the \\n\n",
    "    unaligned_en = pd.DataFrame(unaligned_en, columns=[\"text\"])\n",
    "    f.close()\n",
    "\n",
    "unaligned_en.describe()"
   ]
  },
  {
   "cell_type": "code",
   "execution_count": 212,
   "metadata": {},
   "outputs": [
    {
     "name": "stdout",
     "output_type": "stream",
     "text": [
      "Duplication ratio 0.016504219409282705\n"
     ]
    }
   ],
   "source": [
    "dup_ratio = 1 - (unaligned_en.text.unique().shape[0] / unaligned_en.text.shape[0])\n",
    "print(\"Duplication ratio\", dup_ratio)"
   ]
  },
  {
   "cell_type": "code",
   "execution_count": 213,
   "metadata": {},
   "outputs": [
    {
     "data": {
      "text/plain": [
       "Text(0.5, 1.0, 'Histogram per characters')"
      ]
     },
     "execution_count": 213,
     "metadata": {},
     "output_type": "execute_result"
    },
    {
     "data": {
      "image/png": "[encoded data removed]",
      "text/plain": [
       "<Figure size 432x288 with 1 Axes>"
      ]
     },
     "metadata": {
      "needs_background": "light"
     },
     "output_type": "display_data"
    }
   ],
   "source": [
    "ax = unaligned_en.text.str.len().hist(bins=100)\n",
    "ax.set_title(\"Histogram per characters\")"
   ]
  },
  {
   "cell_type": "code",
   "execution_count": 214,
   "metadata": {},
   "outputs": [
    {
     "data": {
      "text/plain": [
       "count    474000.000000\n",
       "mean        106.462382\n",
       "std          58.117838\n",
       "min           5.000000\n",
       "25%          57.000000\n",
       "50%         101.000000\n",
       "75%         148.000000\n",
       "90%         187.000000\n",
       "99%         240.000000\n",
       "max         788.000000\n",
       "Name: text, dtype: float64"
      ]
     },
     "execution_count": 214,
     "metadata": {},
     "output_type": "execute_result"
    }
   ],
   "source": [
    "unaligned_en.text.str.len().describe(percentiles=[.25, .5, .75, .9, .99])"
   ]
  },
  {
   "cell_type": "code",
   "execution_count": 215,
   "metadata": {},
   "outputs": [
    {
     "data": {
      "text/html": [
       "<div>\n",
       "<style scoped>\n",
       "    .dataframe tbody tr th:only-of-type {\n",
       "        vertical-align: middle;\n",
       "    }\n",
       "\n",
       "    .dataframe tbody tr th {\n",
       "        vertical-align: top;\n",
       "    }\n",
       "\n",
       "    .dataframe thead th {\n",
       "        text-align: right;\n",
       "    }\n",
       "</style>\n",
       "<table border=\"1\" class=\"dataframe\">\n",
       "  <thead>\n",
       "    <tr style=\"text-align: right;\">\n",
       "      <th></th>\n",
       "      <th>text</th>\n",
       "    </tr>\n",
       "  </thead>\n",
       "  <tbody>\n",
       "    <tr>\n",
       "      <th>165702</th>\n",
       "      <td>There are many types of nuclear installations in Europe today and it will certainly be necessary to continue the efforts undertaken by industrial circles and the authorities responsible for safety to approximate the specifications and to define our joint demands.</td>\n",
       "    </tr>\n",
       "    <tr>\n",
       "      <th>300738</th>\n",
       "      <td>And that's that when you strip away all your feelings about politics and the line at the DMV and all those other things that we're really mad about, government is, at its core, in the words of Tim O'Reilly, \"What we do together that we can't do alone.\"</td>\n",
       "    </tr>\n",
       "    <tr>\n",
       "      <th>124837</th>\n",
       "      <td>sent her back to the hospital that she had just come from, no one read the chart, put her on Tylenol, which she is allergic to, broke out, got bedsores, basically, had heart problems, and died from the fall and the complications and the errors that were there.</td>\n",
       "    </tr>\n",
       "    <tr>\n",
       "      <th>198456</th>\n",
       "      <td>Subject: Møllergårdens Vivaldi - a Shetland pony The Committee on Petitions decided on 15 May 1997 to examine a case concerning the Shetland pony, Møllergårdens Vivaldi, from Denmark, which the Swedish authorities refused to register as a stallion in Sweden.</td>\n",
       "    </tr>\n",
       "    <tr>\n",
       "      <th>105399</th>\n",
       "      <td>You can compare how that building, in terms of its emission in tons of carbon dioxide per year -- at the time that we took that project, over 7,000 tons -- what it would have been with natural gas and finally, with the vegetable oil, 450 tons.</td>\n",
       "    </tr>\n",
       "  </tbody>\n",
       "</table>\n",
       "</div>"
      ],
      "text/plain": [
       "                                                                                                                                                                                                                                                                           text\n",
       "165702  There are many types of nuclear installations in Europe today and it will certainly be necessary to continue the efforts undertaken by industrial circles and the authorities responsible for safety to approximate the specifications and to define our joint demands.\n",
       "300738             And that's that when you strip away all your feelings about politics and the line at the DMV and all those other things that we're really mad about, government is, at its core, in the words of Tim O'Reilly, \"What we do together that we can't do alone.\"\n",
       "124837     sent her back to the hospital that she had just come from, no one read the chart, put her on Tylenol, which she is allergic to, broke out, got bedsores, basically, had heart problems, and died from the fall and the complications and the errors that were there.\n",
       "198456       Subject: Møllergårdens Vivaldi - a Shetland pony The Committee on Petitions decided on 15 May 1997 to examine a case concerning the Shetland pony, Møllergårdens Vivaldi, from Denmark, which the Swedish authorities refused to register as a stallion in Sweden.\n",
       "105399                      You can compare how that building, in terms of its emission in tons of carbon dioxide per year -- at the time that we took that project, over 7,000 tons -- what it would have been with natural gas and finally, with the vegetable oil, 450 tons."
      ]
     },
     "execution_count": 215,
     "metadata": {},
     "output_type": "execute_result"
    }
   ],
   "source": [
    "unaligned_en[unaligned_en.text.str.len() > 240].sample(n = 5)"
   ]
  },
  {
   "cell_type": "code",
   "execution_count": 216,
   "metadata": {},
   "outputs": [
    {
     "data": {
      "text/html": [
       "<div>\n",
       "<style scoped>\n",
       "    .dataframe tbody tr th:only-of-type {\n",
       "        vertical-align: middle;\n",
       "    }\n",
       "\n",
       "    .dataframe tbody tr th {\n",
       "        vertical-align: top;\n",
       "    }\n",
       "\n",
       "    .dataframe thead th {\n",
       "        text-align: right;\n",
       "    }\n",
       "</style>\n",
       "<table border=\"1\" class=\"dataframe\">\n",
       "  <thead>\n",
       "    <tr style=\"text-align: right;\">\n",
       "      <th></th>\n",
       "      <th>text</th>\n",
       "    </tr>\n",
       "  </thead>\n",
       "  <tbody>\n",
       "    <tr>\n",
       "      <th>401249</th>\n",
       "      <td>Think of it in the following terms. Think of it as beginning to program stuff for specific purposes. Think of the cell as a hardware. Think of the genes as a software. And in the measure that you begin to think of life as code that is interchangeable, that can become energy, that can become food, that can become fiber, that can become human beings, that can become a whole series of things, then you've got to shift your approach as to how you're going to structure and deal and think about energy in a very different way.</td>\n",
       "    </tr>\n",
       "    <tr>\n",
       "      <th>392111</th>\n",
       "      <td>And so, when you fly down -- Thank you. When you fly down to the ground, and you see this kind of panoramic imagery, the first thing that you might notice is that it's not just a picture, there's just as much three-dimensional understanding of this environment as there is of the three-dimensional city from above, so if I click on something to get a closer view of it, then, the fact that that transition looks as it does, is a function of all of that geometry, all of that 3D understanding behind this model.</td>\n",
       "    </tr>\n",
       "    <tr>\n",
       "      <th>215410</th>\n",
       "      <td>We looked at the historical attempts that had been out there and realized that, despite the fact that we have a lot of modern innovations to draw on today that weren't available previously -- we have modern composite materials, we have aircraft engines that get good fuel economy and have better power-to-rate ratios than have ever been available, we have glass cockpit avionics that bring the information you need to fly directly to you in the cockpit -- but without fundamentally addressing the problem from a different perspective, we realized that we were going to be getting the same result that people had been getting for the last hundred years, which isn't where we want to be right now.</td>\n",
       "    </tr>\n",
       "    <tr>\n",
       "      <th>97432</th>\n",
       "      <td>And in this paper, they show something much more striking, and that was that they did what they call a radiation -- and I'm not going to go into the details of it, actually it's quite complicated, but it isn't as complicated as they might make you think it is by the words they use in those papers. If you really get down to it, they say, the sun puts out a certain amount of energy -- we know how much that is -- it falls on the earth, the earth gives back a certain amount.</td>\n",
       "    </tr>\n",
       "    <tr>\n",
       "      <th>121086</th>\n",
       "      <td>Imagine what you'll tell your children when they ask you, \"So, in 2012, Mom and Dad, what was it like when you'd had the hottest decade on record for the third decade in a row, when every scientific body in the world was saying you've got a major problem, when the oceans were acidifying, when oil and food prices were spiking, when they were rioting in the streets of London and occupying Wall Street?</td>\n",
       "    </tr>\n",
       "  </tbody>\n",
       "</table>\n",
       "</div>"
      ],
      "text/plain": [
       "                                                                                                                                                                                                                                                                                                                                                                                                                                                                                                                                                                                                                                                                                                                           text\n",
       "401249                                                                                                                                                                             Think of it in the following terms. Think of it as beginning to program stuff for specific purposes. Think of the cell as a hardware. Think of the genes as a software. And in the measure that you begin to think of life as code that is interchangeable, that can become energy, that can become food, that can become fiber, that can become human beings, that can become a whole series of things, then you've got to shift your approach as to how you're going to structure and deal and think about energy in a very different way.\n",
       "392111                                                                                                                                                                                           And so, when you fly down -- Thank you. When you fly down to the ground, and you see this kind of panoramic imagery, the first thing that you might notice is that it's not just a picture, there's just as much three-dimensional understanding of this environment as there is of the three-dimensional city from above, so if I click on something to get a closer view of it, then, the fact that that transition looks as it does, is a function of all of that geometry, all of that 3D understanding behind this model.\n",
       "215410  We looked at the historical attempts that had been out there and realized that, despite the fact that we have a lot of modern innovations to draw on today that weren't available previously -- we have modern composite materials, we have aircraft engines that get good fuel economy and have better power-to-rate ratios than have ever been available, we have glass cockpit avionics that bring the information you need to fly directly to you in the cockpit -- but without fundamentally addressing the problem from a different perspective, we realized that we were going to be getting the same result that people had been getting for the last hundred years, which isn't where we want to be right now.\n",
       "97432                                                                                                                                                                                                                               And in this paper, they show something much more striking, and that was that they did what they call a radiation -- and I'm not going to go into the details of it, actually it's quite complicated, but it isn't as complicated as they might make you think it is by the words they use in those papers. If you really get down to it, they say, the sun puts out a certain amount of energy -- we know how much that is -- it falls on the earth, the earth gives back a certain amount.\n",
       "121086                                                                                                                                                                                                                                                                                                       Imagine what you'll tell your children when they ask you, \"So, in 2012, Mom and Dad, what was it like when you'd had the hottest decade on record for the third decade in a row, when every scientific body in the world was saying you've got a major problem, when the oceans were acidifying, when oil and food prices were spiking, when they were rioting in the streets of London and occupying Wall Street?"
      ]
     },
     "execution_count": 216,
     "metadata": {},
     "output_type": "execute_result"
    }
   ],
   "source": [
    "unaligned_en[unaligned_en.text.str.len() > 400].sample(n = 5)"
   ]
  },
  {
   "cell_type": "markdown",
   "metadata": {},
   "source": [
    "- Presence of duplicated lines in unaligned_en (1.6%)\n",
    "- Few sentences with more than 400 characters contains actually several sentences (not split)\n",
    "- Most sentences with less than 240 characters\n",
    "- No lowercase and not tokenized (presence of coma and so on)"
   ]
  },
  {
   "cell_type": "markdown",
   "metadata": {},
   "source": [
    "# Quick analysis of train.lang1"
   ]
  },
  {
   "cell_type": "code",
   "execution_count": 23,
   "metadata": {},
   "outputs": [
    {
     "data": {
      "text/html": [
       "<div>\n",
       "<style scoped>\n",
       "    .dataframe tbody tr th:only-of-type {\n",
       "        vertical-align: middle;\n",
       "    }\n",
       "\n",
       "    .dataframe tbody tr th {\n",
       "        vertical-align: top;\n",
       "    }\n",
       "\n",
       "    .dataframe thead th {\n",
       "        text-align: right;\n",
       "    }\n",
       "</style>\n",
       "<table border=\"1\" class=\"dataframe\">\n",
       "  <thead>\n",
       "    <tr style=\"text-align: right;\">\n",
       "      <th></th>\n",
       "      <th>text</th>\n",
       "    </tr>\n",
       "  </thead>\n",
       "  <tbody>\n",
       "    <tr>\n",
       "      <th>count</th>\n",
       "      <td>11000</td>\n",
       "    </tr>\n",
       "    <tr>\n",
       "      <th>unique</th>\n",
       "      <td>10995</td>\n",
       "    </tr>\n",
       "    <tr>\n",
       "      <th>top</th>\n",
       "      <td>i ca n't tell you how happy i am that you 've come to visit us</td>\n",
       "    </tr>\n",
       "    <tr>\n",
       "      <th>freq</th>\n",
       "      <td>3</td>\n",
       "    </tr>\n",
       "  </tbody>\n",
       "</table>\n",
       "</div>"
      ],
      "text/plain": [
       "                                                                  text\n",
       "count                                                            11000\n",
       "unique                                                           10995\n",
       "top     i ca n't tell you how happy i am that you 've come to visit us\n",
       "freq                                                                 3"
      ]
     },
     "execution_count": 23,
     "metadata": {},
     "output_type": "execute_result"
    }
   ],
   "source": [
    "with open(data_path / \"train.lang1\", 'r') as f:\n",
    "    train_lang1_en = [line.rstrip() for line in f] # Remove the \\n\n",
    "    train_lang1_en = pd.DataFrame(train_lang1_en, columns=[\"text\"])\n",
    "    f.close()\n",
    "\n",
    "train_lang1_en.describe()"
   ]
  },
  {
   "cell_type": "code",
   "execution_count": 218,
   "metadata": {},
   "outputs": [
    {
     "name": "stdout",
     "output_type": "stream",
     "text": [
      "Duplication ratio 0.00045454545454548523\n"
     ]
    }
   ],
   "source": [
    "dup_ratio = 1 - (train_lang1_en.text.unique().shape[0] / train_lang1_en.text.shape[0])\n",
    "print(\"Duplication ratio\", dup_ratio)"
   ]
  },
  {
   "cell_type": "code",
   "execution_count": 219,
   "metadata": {},
   "outputs": [
    {
     "data": {
      "text/plain": [
       "Text(0.5, 1.0, 'Histogram per characters')"
      ]
     },
     "execution_count": 219,
     "metadata": {},
     "output_type": "execute_result"
    },
    {
     "data": {
      "image/png": "[encoded data removed]",
      "text/plain": [
       "<Figure size 432x288 with 1 Axes>"
      ]
     },
     "metadata": {
      "needs_background": "light"
     },
     "output_type": "display_data"
    }
   ],
   "source": [
    "ax = train_lang1_en.text.str.len().hist(bins=100)\n",
    "ax.set_title(\"Histogram per characters\")"
   ]
  },
  {
   "cell_type": "code",
   "execution_count": 220,
   "metadata": {},
   "outputs": [
    {
     "data": {
      "text/plain": [
       "count    11000.000000\n",
       "mean       105.172182\n",
       "std         58.009205\n",
       "min          4.000000\n",
       "25%         56.000000\n",
       "50%        100.000000\n",
       "75%        147.000000\n",
       "90%        186.000000\n",
       "99%        236.010000\n",
       "max        512.000000\n",
       "Name: text, dtype: float64"
      ]
     },
     "execution_count": 220,
     "metadata": {},
     "output_type": "execute_result"
    }
   ],
   "source": [
    "train_lang1_en.text.str.len().describe(percentiles=[.25, .5, .75, .9, .99])"
   ]
  },
  {
   "cell_type": "code",
   "execution_count": 221,
   "metadata": {},
   "outputs": [
    {
     "data": {
      "text/html": [
       "<div>\n",
       "<style scoped>\n",
       "    .dataframe tbody tr th:only-of-type {\n",
       "        vertical-align: middle;\n",
       "    }\n",
       "\n",
       "    .dataframe tbody tr th {\n",
       "        vertical-align: top;\n",
       "    }\n",
       "\n",
       "    .dataframe thead th {\n",
       "        text-align: right;\n",
       "    }\n",
       "</style>\n",
       "<table border=\"1\" class=\"dataframe\">\n",
       "  <thead>\n",
       "    <tr style=\"text-align: right;\">\n",
       "      <th></th>\n",
       "      <th>text</th>\n",
       "    </tr>\n",
       "  </thead>\n",
       "  <tbody>\n",
       "    <tr>\n",
       "      <th>4312</th>\n",
       "      <td>instead of going out and guessing about our ancestry digging things up out of the ground possible ancestors and saying it on the basis of morphology -- which we still do n't completely understand we do n't know the genetic causes underlying this morphological variation -- what we need to do is turn the problem on its head</td>\n",
       "    </tr>\n",
       "    <tr>\n",
       "      <th>4902</th>\n",
       "      <td>now these are things about general culture but i 'm also very much interested in political culture and whether liberty and democracy is appreciated or whether there 's an authoritarian political culture in which the state is supposed to impose things on the citizens</td>\n",
       "    </tr>\n",
       "    <tr>\n",
       "      <th>10180</th>\n",
       "      <td>that is military science and technology that they need can create the advanced materials - industrial cluster that transforms its civilian economy and gets the country off oil which would be a huge contribution to eliminating conflict over oil and advancing national and global security</td>\n",
       "    </tr>\n",
       "    <tr>\n",
       "      <th>2575</th>\n",
       "      <td>if we do encounter actual cases of fraud or irregularities in carrying out our normal auditing tasks we naturally work together with the national criminal investigation authorities - as well as uclaf - so that matters take their proper course</td>\n",
       "    </tr>\n",
       "    <tr>\n",
       "      <th>9017</th>\n",
       "      <td>i would welcome it if the commissioner would confirm very clearly today that the new investment services directive – isd-2 – will not prevent people from using the execution - only services and direct offer products that they find so valuable</td>\n",
       "    </tr>\n",
       "  </tbody>\n",
       "</table>\n",
       "</div>"
      ],
      "text/plain": [
       "                                                                                                                                                                                                                                                                                                                                      text\n",
       "4312   instead of going out and guessing about our ancestry digging things up out of the ground possible ancestors and saying it on the basis of morphology -- which we still do n't completely understand we do n't know the genetic causes underlying this morphological variation -- what we need to do is turn the problem on its head\n",
       "4902                                                            now these are things about general culture but i 'm also very much interested in political culture and whether liberty and democracy is appreciated or whether there 's an authoritarian political culture in which the state is supposed to impose things on the citizens\n",
       "10180                                       that is military science and technology that they need can create the advanced materials - industrial cluster that transforms its civilian economy and gets the country off oil which would be a huge contribution to eliminating conflict over oil and advancing national and global security\n",
       "2575                                                                                    if we do encounter actual cases of fraud or irregularities in carrying out our normal auditing tasks we naturally work together with the national criminal investigation authorities - as well as uclaf - so that matters take their proper course\n",
       "9017                                                                                    i would welcome it if the commissioner would confirm very clearly today that the new investment services directive – isd-2 – will not prevent people from using the execution - only services and direct offer products that they find so valuable"
      ]
     },
     "execution_count": 221,
     "metadata": {},
     "output_type": "execute_result"
    }
   ],
   "source": [
    "train_lang1_en[train_lang1_en.text.str.len() > 240].sample(n = 5)"
   ]
  },
  {
   "cell_type": "code",
   "execution_count": 222,
   "metadata": {},
   "outputs": [
    {
     "data": {
      "text/html": [
       "<div>\n",
       "<style scoped>\n",
       "    .dataframe tbody tr th:only-of-type {\n",
       "        vertical-align: middle;\n",
       "    }\n",
       "\n",
       "    .dataframe tbody tr th {\n",
       "        vertical-align: top;\n",
       "    }\n",
       "\n",
       "    .dataframe thead th {\n",
       "        text-align: right;\n",
       "    }\n",
       "</style>\n",
       "<table border=\"1\" class=\"dataframe\">\n",
       "  <thead>\n",
       "    <tr style=\"text-align: right;\">\n",
       "      <th></th>\n",
       "      <th>text</th>\n",
       "    </tr>\n",
       "  </thead>\n",
       "  <tbody>\n",
       "    <tr>\n",
       "      <th>4710</th>\n",
       "      <td>second problem that people sometimes talk about with military use of non - lethal weapons and it 's actually the reason why in the chemical weapons convention it 's very clear that you ca n't use riot control agents as a weapon of warfare the problem with that is that it 's seen that sometimes non - lethal weapons might actually be used not as an alternative to lethal force but as a lethal force multiplier -- that you use non - lethal weapons first so that your lethal weapons will actually be more effective</td>\n",
       "    </tr>\n",
       "    <tr>\n",
       "      <th>9627</th>\n",
       "      <td>but it appeared to me that all these years that i 'd been working on exploitation -- exploitation by landlords by moneylenders by traders -- gave me an insight that probably i was also an exploiter because there was no line in my income tax return which showed this income accrued because of the brilliance of the people -- those people who have shared their knowledge and good faith and trust with me -- and nothing ever went back to them</td>\n",
       "    </tr>\n",
       "    <tr>\n",
       "      <th>4829</th>\n",
       "      <td>now in the decade of darfur and iraq a statement like that might seem somewhere between hallucinatory and obscene but i 'm going to try to convince you that that is the correct picture the decline of violence is a fractal phenomenon you can see it over millennia over centuries over decades and over years although there seems to have been a tipping point at the onset of the age of reason in the sixteenth century one sees it all over the world although not homogeneously</td>\n",
       "    </tr>\n",
       "    <tr>\n",
       "      <th>10759</th>\n",
       "      <td>and those simple words brought back many thoughts that i had had before about the fusion of our souls into one higher - level entity about the fact that at the core of both our souls lay our identical hopes and dreams for our children about the notion that those hopes were not separate or distinct hopes but were just one hope one clear thing that defined us both that welded us into a unit -- the kind of unit i had but dimly imagined before being married and having children</td>\n",
       "    </tr>\n",
       "    <tr>\n",
       "      <th>9931</th>\n",
       "      <td>-- it was printed in monterey i checked and the story began former vice president al gore announced in nigeria yesterday my wife tipper and i have opened a low - cost family restaurant named shoney 's and we are running it ourselves before i could get back to u.s soil david letterman and jay leno had already started in on -- one of them had me in a big white chef 's hat tipper was saying one more burger with fries</td>\n",
       "    </tr>\n",
       "  </tbody>\n",
       "</table>\n",
       "</div>"
      ],
      "text/plain": [
       "                                                                                                                                                                                                                                                                                                                                                                                                                                                                                                                                   text\n",
       "4710   second problem that people sometimes talk about with military use of non - lethal weapons and it 's actually the reason why in the chemical weapons convention it 's very clear that you ca n't use riot control agents as a weapon of warfare the problem with that is that it 's seen that sometimes non - lethal weapons might actually be used not as an alternative to lethal force but as a lethal force multiplier -- that you use non - lethal weapons first so that your lethal weapons will actually be more effective\n",
       "9627                                                                            but it appeared to me that all these years that i 'd been working on exploitation -- exploitation by landlords by moneylenders by traders -- gave me an insight that probably i was also an exploiter because there was no line in my income tax return which showed this income accrued because of the brilliance of the people -- those people who have shared their knowledge and good faith and trust with me -- and nothing ever went back to them\n",
       "4829                                           now in the decade of darfur and iraq a statement like that might seem somewhere between hallucinatory and obscene but i 'm going to try to convince you that that is the correct picture the decline of violence is a fractal phenomenon you can see it over millennia over centuries over decades and over years although there seems to have been a tipping point at the onset of the age of reason in the sixteenth century one sees it all over the world although not homogeneously\n",
       "10759                                     and those simple words brought back many thoughts that i had had before about the fusion of our souls into one higher - level entity about the fact that at the core of both our souls lay our identical hopes and dreams for our children about the notion that those hopes were not separate or distinct hopes but were just one hope one clear thing that defined us both that welded us into a unit -- the kind of unit i had but dimly imagined before being married and having children\n",
       "9931                                                                                                  -- it was printed in monterey i checked and the story began former vice president al gore announced in nigeria yesterday my wife tipper and i have opened a low - cost family restaurant named shoney 's and we are running it ourselves before i could get back to u.s soil david letterman and jay leno had already started in on -- one of them had me in a big white chef 's hat tipper was saying one more burger with fries"
      ]
     },
     "execution_count": 222,
     "metadata": {},
     "output_type": "execute_result"
    }
   ],
   "source": [
    "train_lang1_en[train_lang1_en.text.str.len() > 400].sample(n = 5)"
   ]
  },
  {
   "cell_type": "markdown",
   "metadata": {},
   "source": [
    "- Almost no duplicated lines in train_lang1_en\n",
    "- Some sentences with more than 400 characters contains actually several sentences (not split)\n",
    "- Distribution is cleaner compared to monolingual corpus\n",
    "- Max sequence is 512 characters\n",
    "- Most sequences with less than 236 characters\n",
    "- lowercase and already preprocessed (ex: \"it\", \"'s\")"
   ]
  },
  {
   "cell_type": "markdown",
   "metadata": {},
   "source": [
    "## French corpora"
   ]
  },
  {
   "cell_type": "markdown",
   "metadata": {},
   "source": [
    "# Quick analysis of unaligned.fr"
   ]
  },
  {
   "cell_type": "code",
   "execution_count": 116,
   "metadata": {},
   "outputs": [
    {
     "data": {
      "text/html": [
       "<div>\n",
       "<style scoped>\n",
       "    .dataframe tbody tr th:only-of-type {\n",
       "        vertical-align: middle;\n",
       "    }\n",
       "\n",
       "    .dataframe tbody tr th {\n",
       "        vertical-align: top;\n",
       "    }\n",
       "\n",
       "    .dataframe thead th {\n",
       "        text-align: right;\n",
       "    }\n",
       "</style>\n",
       "<table border=\"1\" class=\"dataframe\">\n",
       "  <thead>\n",
       "    <tr style=\"text-align: right;\">\n",
       "      <th></th>\n",
       "      <th>text</th>\n",
       "    </tr>\n",
       "  </thead>\n",
       "  <tbody>\n",
       "    <tr>\n",
       "      <th>count</th>\n",
       "      <td>474000</td>\n",
       "    </tr>\n",
       "    <tr>\n",
       "      <th>unique</th>\n",
       "      <td>471825</td>\n",
       "    </tr>\n",
       "    <tr>\n",
       "      <th>top</th>\n",
       "      <td>Le débat est clos.</td>\n",
       "    </tr>\n",
       "    <tr>\n",
       "      <th>freq</th>\n",
       "      <td>9</td>\n",
       "    </tr>\n",
       "  </tbody>\n",
       "</table>\n",
       "</div>"
      ],
      "text/plain": [
       "                      text\n",
       "count               474000\n",
       "unique              471825\n",
       "top     Le débat est clos.\n",
       "freq                     9"
      ]
     },
     "execution_count": 116,
     "metadata": {},
     "output_type": "execute_result"
    }
   ],
   "source": [
    "with open(data_path / \"unaligned.fr\", 'r') as f:\n",
    "    unaligned_fr = [line.rstrip() for line in f] # Remove the \\n\n",
    "    unaligned_fr = pd.DataFrame(unaligned_fr, columns=[\"text\"])\n",
    "    f.close()\n",
    "\n",
    "unaligned_fr.describe()"
   ]
  },
  {
   "cell_type": "code",
   "execution_count": 224,
   "metadata": {},
   "outputs": [
    {
     "name": "stdout",
     "output_type": "stream",
     "text": [
      "Duplication ratio 0.004588607594936733\n"
     ]
    }
   ],
   "source": [
    "dup_ratio = 1 - (unaligned_fr.text.unique().shape[0] / unaligned_fr.text.shape[0])\n",
    "print(\"Duplication ratio\", dup_ratio)"
   ]
  },
  {
   "cell_type": "code",
   "execution_count": 225,
   "metadata": {},
   "outputs": [
    {
     "data": {
      "text/plain": [
       "Text(0.5, 1.0, 'Histogram per characters')"
      ]
     },
     "execution_count": 225,
     "metadata": {},
     "output_type": "execute_result"
    },
    {
     "data": {
      "image/png": "[encoded data removed]",
      "text/plain": [
       "<Figure size 432x288 with 1 Axes>"
      ]
     },
     "metadata": {
      "needs_background": "light"
     },
     "output_type": "display_data"
    }
   ],
   "source": [
    "ax = unaligned_fr.text.str.len().hist(bins=100)\n",
    "ax.set_title(\"Histogram per characters\")"
   ]
  },
  {
   "cell_type": "code",
   "execution_count": 226,
   "metadata": {},
   "outputs": [
    {
     "data": {
      "text/plain": [
       "count    474000.000000\n",
       "mean        119.912194\n",
       "std          65.138216\n",
       "min           5.000000\n",
       "25%          65.000000\n",
       "50%         114.000000\n",
       "75%         167.000000\n",
       "90%         211.000000\n",
       "99%         266.000000\n",
       "max         969.000000\n",
       "Name: text, dtype: float64"
      ]
     },
     "execution_count": 226,
     "metadata": {},
     "output_type": "execute_result"
    }
   ],
   "source": [
    "unaligned_fr.text.str.len().describe(percentiles=[.25, .5, .75, .9, .99])"
   ]
  },
  {
   "cell_type": "code",
   "execution_count": 227,
   "metadata": {},
   "outputs": [
    {
     "data": {
      "text/html": [
       "<div>\n",
       "<style scoped>\n",
       "    .dataframe tbody tr th:only-of-type {\n",
       "        vertical-align: middle;\n",
       "    }\n",
       "\n",
       "    .dataframe tbody tr th {\n",
       "        vertical-align: top;\n",
       "    }\n",
       "\n",
       "    .dataframe thead th {\n",
       "        text-align: right;\n",
       "    }\n",
       "</style>\n",
       "<table border=\"1\" class=\"dataframe\">\n",
       "  <thead>\n",
       "    <tr style=\"text-align: right;\">\n",
       "      <th></th>\n",
       "      <th>text</th>\n",
       "    </tr>\n",
       "  </thead>\n",
       "  <tbody>\n",
       "    <tr>\n",
       "      <th>287730</th>\n",
       "      <td>Les drogues synthétiques, en particulier, représentent un problème dont l'ampleur va sans cesse croissant, car leurs composants chimiques, les fameux précurseurs, peuvent être modifiés très aisément et rapidement, et échapper de la sorte aux législations.</td>\n",
       "    </tr>\n",
       "    <tr>\n",
       "      <th>417652</th>\n",
       "      <td>Toutefois, parallèlement, bien que les relations entre l'UE et Andorre se soient développées, elles restent fragmentées, de vastes pans de l'acquis relatif au marché intérieur n'ayant pas été repris dans la législation andorrane et n'étant donc pas applicables.</td>\n",
       "    </tr>\n",
       "    <tr>\n",
       "      <th>176831</th>\n",
       "      <td>En effet, comme le nom l'indique, la recommandation vise les États membres, lesquels peuvent la suivre mais n'y sont pas contraints, de sorte que déterminer des prescriptions légales dans le cadre d'une telle recommandation n'est pas possible.</td>\n",
       "    </tr>\n",
       "    <tr>\n",
       "      <th>376952</th>\n",
       "      <td>Un certain nombre d’États membres, par exemple, sont très préoccupés par le fait que des enfants restent sans la surveillance appropriée d’un adulte à certains moments, lorsque leurs parents et les personnes qui s’en occupent sont au travail.</td>\n",
       "    </tr>\n",
       "    <tr>\n",
       "      <th>44631</th>\n",
       "      <td>Les Etats-Unis n’ont jamais été favorables à l’inclusion de points concernant les droits de l’homme dans les accords commerciaux ; au mieux, et sous la pression, les présidents américains ont consenti à inclure des clauses sociales et environnementales.</td>\n",
       "    </tr>\n",
       "  </tbody>\n",
       "</table>\n",
       "</div>"
      ],
      "text/plain": [
       "                                                                                                                                                                                                                                                                         text\n",
       "287730        Les drogues synthétiques, en particulier, représentent un problème dont l'ampleur va sans cesse croissant, car leurs composants chimiques, les fameux précurseurs, peuvent être modifiés très aisément et rapidement, et échapper de la sorte aux législations.\n",
       "417652  Toutefois, parallèlement, bien que les relations entre l'UE et Andorre se soient développées, elles restent fragmentées, de vastes pans de l'acquis relatif au marché intérieur n'ayant pas été repris dans la législation andorrane et n'étant donc pas applicables.\n",
       "176831                    En effet, comme le nom l'indique, la recommandation vise les États membres, lesquels peuvent la suivre mais n'y sont pas contraints, de sorte que déterminer des prescriptions légales dans le cadre d'une telle recommandation n'est pas possible.\n",
       "376952                     Un certain nombre d’États membres, par exemple, sont très préoccupés par le fait que des enfants restent sans la surveillance appropriée d’un adulte à certains moments, lorsque leurs parents et les personnes qui s’en occupent sont au travail.\n",
       "44631           Les Etats-Unis n’ont jamais été favorables à l’inclusion de points concernant les droits de l’homme dans les accords commerciaux ; au mieux, et sous la pression, les présidents américains ont consenti à inclure des clauses sociales et environnementales."
      ]
     },
     "execution_count": 227,
     "metadata": {},
     "output_type": "execute_result"
    }
   ],
   "source": [
    "unaligned_fr[unaligned_fr.text.str.len() > 240].sample(n = 5)"
   ]
  },
  {
   "cell_type": "code",
   "execution_count": 228,
   "metadata": {},
   "outputs": [
    {
     "data": {
      "text/html": [
       "<div>\n",
       "<style scoped>\n",
       "    .dataframe tbody tr th:only-of-type {\n",
       "        vertical-align: middle;\n",
       "    }\n",
       "\n",
       "    .dataframe tbody tr th {\n",
       "        vertical-align: top;\n",
       "    }\n",
       "\n",
       "    .dataframe thead th {\n",
       "        text-align: right;\n",
       "    }\n",
       "</style>\n",
       "<table border=\"1\" class=\"dataframe\">\n",
       "  <thead>\n",
       "    <tr style=\"text-align: right;\">\n",
       "      <th></th>\n",
       "      <th>text</th>\n",
       "    </tr>\n",
       "  </thead>\n",
       "  <tbody>\n",
       "    <tr>\n",
       "      <th>107712</th>\n",
       "      <td>Une fois que l'animal sait que clic, nourriture, clic, nourriture, clic, nourriture -- que donc le clic équivaut à la nourriture -- nous l'amenons dans une cage avec un trou, et l'animal apprend en fait à coller son nez au trou sous lequel une odeur cible est placée, et de faire ça pendant cinq secondes -- cinq secondes, ce qui est long pour un rat.</td>\n",
       "    </tr>\n",
       "    <tr>\n",
       "      <th>68532</th>\n",
       "      <td>Une femme a pris cette énergie et a dit \"Je veux apporter cette vague, cette énergie, sur les campus des universités\", et elle a pris la pièce et dit \"Utilisons cette pièce et montons des représentations une fois par an afin de collecter des fonds pour mettre fin aux violences faites aux femmes dans les communautés locales à travers le monde.\"</td>\n",
       "    </tr>\n",
       "    <tr>\n",
       "      <th>412890</th>\n",
       "      <td>Donc si un radiologue regarde la radio d'un patient avec une pneumonie suspectée, disons, ce qui se passe c'est que, s'ils mettent en évidence une pneumonie sur la radio, ils arrêtent littéralement de la regarder -- ainsi ils passent à côté de la tumeur située à 7,6 cm plus bas sur les poumons du patient.</td>\n",
       "    </tr>\n",
       "    <tr>\n",
       "      <th>110638</th>\n",
       "      <td>Nous avons maintenant une vision et une façon plus démocratiques de faire de la musique, un échange de bons procédés En tant que chef-d'orchestre, je dois venir à la répétition avec une idée ferme de l'architecture extérieure de cette musique, dans laquelle il y a alors une liberté personnelle immense de briller pour les membres de l'orchestre.</td>\n",
       "    </tr>\n",
       "    <tr>\n",
       "      <th>226004</th>\n",
       "      <td>Et puis nous sommes passés à une autre elle n'avait pas de super visuels, mais elle avait des super informations -- et nous avons passé une heure à parler du processus d'apprentissage, parce que la question n'était pas si oui ou non c'était parfait, ou si oui ou non c'était ce que je pouvais créer; c'était de leur demander de créer par eux-mêmes.</td>\n",
       "    </tr>\n",
       "  </tbody>\n",
       "</table>\n",
       "</div>"
      ],
      "text/plain": [
       "                                                                                                                                                                                                                                                                                                                                                                   text\n",
       "107712  Une fois que l'animal sait que clic, nourriture, clic, nourriture, clic, nourriture -- que donc le clic équivaut à la nourriture -- nous l'amenons dans une cage avec un trou, et l'animal apprend en fait à coller son nez au trou sous lequel une odeur cible est placée, et de faire ça pendant cinq secondes -- cinq secondes, ce qui est long pour un rat.\n",
       "68532         Une femme a pris cette énergie et a dit \"Je veux apporter cette vague, cette énergie, sur les campus des universités\", et elle a pris la pièce et dit \"Utilisons cette pièce et montons des représentations une fois par an afin de collecter des fonds pour mettre fin aux violences faites aux femmes dans les communautés locales à travers le monde.\"\n",
       "412890                                               Donc si un radiologue regarde la radio d'un patient avec une pneumonie suspectée, disons, ce qui se passe c'est que, s'ils mettent en évidence une pneumonie sur la radio, ils arrêtent littéralement de la regarder -- ainsi ils passent à côté de la tumeur située à 7,6 cm plus bas sur les poumons du patient.\n",
       "110638       Nous avons maintenant une vision et une façon plus démocratiques de faire de la musique, un échange de bons procédés En tant que chef-d'orchestre, je dois venir à la répétition avec une idée ferme de l'architecture extérieure de cette musique, dans laquelle il y a alors une liberté personnelle immense de briller pour les membres de l'orchestre.\n",
       "226004     Et puis nous sommes passés à une autre elle n'avait pas de super visuels, mais elle avait des super informations -- et nous avons passé une heure à parler du processus d'apprentissage, parce que la question n'était pas si oui ou non c'était parfait, ou si oui ou non c'était ce que je pouvais créer; c'était de leur demander de créer par eux-mêmes."
      ]
     },
     "execution_count": 228,
     "metadata": {},
     "output_type": "execute_result"
    }
   ],
   "source": [
    "unaligned_fr[unaligned_fr.text.str.len() > 300].sample(n = 5)"
   ]
  },
  {
   "cell_type": "markdown",
   "metadata": {},
   "source": [
    "- Almost no duplicated lines in unaligned_fr\n",
    "- Some sentences with more than 400 characters contains actually several sentences (not split)\n",
    "- Max sequence is 969 characters\n",
    "- Most sequences with less than 266 characters\n",
    "- No preprocessing (punctuation and case)"
   ]
  },
  {
   "cell_type": "markdown",
   "metadata": {},
   "source": [
    "# Quick analysis of train.lang2"
   ]
  },
  {
   "cell_type": "code",
   "execution_count": 120,
   "metadata": {},
   "outputs": [
    {
     "data": {
      "text/html": [
       "<div>\n",
       "<style scoped>\n",
       "    .dataframe tbody tr th:only-of-type {\n",
       "        vertical-align: middle;\n",
       "    }\n",
       "\n",
       "    .dataframe tbody tr th {\n",
       "        vertical-align: top;\n",
       "    }\n",
       "\n",
       "    .dataframe thead th {\n",
       "        text-align: right;\n",
       "    }\n",
       "</style>\n",
       "<table border=\"1\" class=\"dataframe\">\n",
       "  <thead>\n",
       "    <tr style=\"text-align: right;\">\n",
       "      <th></th>\n",
       "      <th>text</th>\n",
       "    </tr>\n",
       "  </thead>\n",
       "  <tbody>\n",
       "    <tr>\n",
       "      <th>count</th>\n",
       "      <td>11000</td>\n",
       "    </tr>\n",
       "    <tr>\n",
       "      <th>unique</th>\n",
       "      <td>10999</td>\n",
       "    </tr>\n",
       "    <tr>\n",
       "      <th>top</th>\n",
       "      <td>J' ai posé la main sur son épaule .</td>\n",
       "    </tr>\n",
       "    <tr>\n",
       "      <th>freq</th>\n",
       "      <td>2</td>\n",
       "    </tr>\n",
       "  </tbody>\n",
       "</table>\n",
       "</div>"
      ],
      "text/plain": [
       "                                       text\n",
       "count                                 11000\n",
       "unique                                10999\n",
       "top     J' ai posé la main sur son épaule .\n",
       "freq                                      2"
      ]
     },
     "execution_count": 120,
     "metadata": {},
     "output_type": "execute_result"
    }
   ],
   "source": [
    "with open(data_path / \"train.lang2\", 'r') as f:\n",
    "    train_lang2_fr = [line.rstrip() for line in f] # Remove the \\n\n",
    "    train_lang2_fr = pd.DataFrame(train_lang2_fr, columns=[\"text\"])\n",
    "    f.close()\n",
    "\n",
    "train_lang2_fr.describe()"
   ]
  },
  {
   "cell_type": "code",
   "execution_count": 230,
   "metadata": {},
   "outputs": [
    {
     "name": "stdout",
     "output_type": "stream",
     "text": [
      "Duplication ratio 9.090909090914145e-05\n"
     ]
    }
   ],
   "source": [
    "dup_ratio = 1 - (train_lang2_fr.text.unique().shape[0] / train_lang2_fr.text.shape[0])\n",
    "print(\"Duplication ratio\", dup_ratio)"
   ]
  },
  {
   "cell_type": "code",
   "execution_count": 231,
   "metadata": {},
   "outputs": [
    {
     "data": {
      "text/plain": [
       "Text(0.5, 1.0, 'Histogram per characters')"
      ]
     },
     "execution_count": 231,
     "metadata": {},
     "output_type": "execute_result"
    },
    {
     "data": {
      "image/png": "[encoded data removed]",
      "text/plain": [
       "<Figure size 432x288 with 1 Axes>"
      ]
     },
     "metadata": {
      "needs_background": "light"
     },
     "output_type": "display_data"
    }
   ],
   "source": [
    "ax = train_lang2_fr.text.str.len().hist(bins=100)\n",
    "ax.set_title(\"Histogram per characters\")"
   ]
  },
  {
   "cell_type": "code",
   "execution_count": 232,
   "metadata": {},
   "outputs": [
    {
     "data": {
      "text/plain": [
       "count    11000.000000\n",
       "mean       123.898636\n",
       "std         66.795198\n",
       "min          7.000000\n",
       "25%         68.000000\n",
       "50%        117.000000\n",
       "75%        173.000000\n",
       "90%        216.000000\n",
       "99%        272.000000\n",
       "max        562.000000\n",
       "Name: text, dtype: float64"
      ]
     },
     "execution_count": 232,
     "metadata": {},
     "output_type": "execute_result"
    }
   ],
   "source": [
    "train_lang2_fr.text.str.len().describe(percentiles=[.25, .5, .75, .9, .99])"
   ]
  },
  {
   "cell_type": "code",
   "execution_count": 233,
   "metadata": {},
   "outputs": [
    {
     "data": {
      "text/html": [
       "<div>\n",
       "<style scoped>\n",
       "    .dataframe tbody tr th:only-of-type {\n",
       "        vertical-align: middle;\n",
       "    }\n",
       "\n",
       "    .dataframe tbody tr th {\n",
       "        vertical-align: top;\n",
       "    }\n",
       "\n",
       "    .dataframe thead th {\n",
       "        text-align: right;\n",
       "    }\n",
       "</style>\n",
       "<table border=\"1\" class=\"dataframe\">\n",
       "  <thead>\n",
       "    <tr style=\"text-align: right;\">\n",
       "      <th></th>\n",
       "      <th>text</th>\n",
       "    </tr>\n",
       "  </thead>\n",
       "  <tbody>\n",
       "    <tr>\n",
       "      <th>1962</th>\n",
       "      <td>Il se trouve , Monsieur le Président , que ces pays , bien qu' ils aient accepté dans leurs accords de coopération avec l' Union européenne la clause démocratique , sont ceux qui sont le moins bien traités , en règle générale , par le budget communautaire .</td>\n",
       "    </tr>\n",
       "    <tr>\n",
       "      <th>7974</th>\n",
       "      <td>C' est donc dans cette perspective qu' il faut apprécier notre proposition : protéger le bien-être des animaux , garantir un niveau élevé de protection de la santé et éviter un contentieux juridique qui serait certainement dommageable pour tout le monde .</td>\n",
       "    </tr>\n",
       "    <tr>\n",
       "      <th>10491</th>\n",
       "      <td>Il y a six mois , dans cette même Assemblée , le Premier ministre britannique déclarait que nous devions laisser de côté notre égoïsme national si nous voulions faire de l’ Europe un continent politiquement crédible et économiquement compétitif , basé sur la solidarité .</td>\n",
       "    </tr>\n",
       "    <tr>\n",
       "      <th>4710</th>\n",
       "      <td>Le second problème de l' utilisation des armes non létales par l' armée , dont on parle parfois , c' est d' ailleurs la raison pour laquelle , dans la convention sur les armes chimiques , il est très clair que vous ne pouvez pas utiliser des agents anti-émeute comme une arme de guerre , le problème est que l' on voit quelquefois des armes non létales utilisées , non pas comme une alternative à la force létale , mais comme un amplificateur de cette force -- vous utilisez d' abord les armes non létales afin que les armes létales soient plus efficaces .</td>\n",
       "    </tr>\n",
       "    <tr>\n",
       "      <th>8347</th>\n",
       "      <td>La politique commerciale de la Communauté doit donc être cohérente avec les objectifs de sa politique relative aux pays en développement , dont l’ objectif suprême doit résider dans l’ élimination de la pauvreté et la promotion du développement durable .</td>\n",
       "    </tr>\n",
       "  </tbody>\n",
       "</table>\n",
       "</div>"
      ],
      "text/plain": [
       "                                                                                                                                                                                                                                                                                                                                                                                                                                                                                                                                                                               text\n",
       "1962                                                                                                                                                                                                                                                                                                              Il se trouve , Monsieur le Président , que ces pays , bien qu' ils aient accepté dans leurs accords de coopération avec l' Union européenne la clause démocratique , sont ceux qui sont le moins bien traités , en règle générale , par le budget communautaire .\n",
       "7974                                                                                                                                                                                                                                                                                                                C' est donc dans cette perspective qu' il faut apprécier notre proposition : protéger le bien-être des animaux , garantir un niveau élevé de protection de la santé et éviter un contentieux juridique qui serait certainement dommageable pour tout le monde .\n",
       "10491                                                                                                                                                                                                                                                                                               Il y a six mois , dans cette même Assemblée , le Premier ministre britannique déclarait que nous devions laisser de côté notre égoïsme national si nous voulions faire de l’ Europe un continent politiquement crédible et économiquement compétitif , basé sur la solidarité .\n",
       "4710   Le second problème de l' utilisation des armes non létales par l' armée , dont on parle parfois , c' est d' ailleurs la raison pour laquelle , dans la convention sur les armes chimiques , il est très clair que vous ne pouvez pas utiliser des agents anti-émeute comme une arme de guerre , le problème est que l' on voit quelquefois des armes non létales utilisées , non pas comme une alternative à la force létale , mais comme un amplificateur de cette force -- vous utilisez d' abord les armes non létales afin que les armes létales soient plus efficaces .\n",
       "8347                                                                                                                                                                                                                                                                                                                 La politique commerciale de la Communauté doit donc être cohérente avec les objectifs de sa politique relative aux pays en développement , dont l’ objectif suprême doit résider dans l’ élimination de la pauvreté et la promotion du développement durable ."
      ]
     },
     "execution_count": 233,
     "metadata": {},
     "output_type": "execute_result"
    }
   ],
   "source": [
    "train_lang2_fr[train_lang2_fr.text.str.len() > 240].sample(n = 5)"
   ]
  },
  {
   "cell_type": "code",
   "execution_count": 234,
   "metadata": {},
   "outputs": [
    {
     "data": {
      "text/html": [
       "<div>\n",
       "<style scoped>\n",
       "    .dataframe tbody tr th:only-of-type {\n",
       "        vertical-align: middle;\n",
       "    }\n",
       "\n",
       "    .dataframe tbody tr th {\n",
       "        vertical-align: top;\n",
       "    }\n",
       "\n",
       "    .dataframe thead th {\n",
       "        text-align: right;\n",
       "    }\n",
       "</style>\n",
       "<table border=\"1\" class=\"dataframe\">\n",
       "  <thead>\n",
       "    <tr style=\"text-align: right;\">\n",
       "      <th></th>\n",
       "      <th>text</th>\n",
       "    </tr>\n",
       "  </thead>\n",
       "  <tbody>\n",
       "    <tr>\n",
       "      <th>4710</th>\n",
       "      <td>Le second problème de l' utilisation des armes non létales par l' armée , dont on parle parfois , c' est d' ailleurs la raison pour laquelle , dans la convention sur les armes chimiques , il est très clair que vous ne pouvez pas utiliser des agents anti-émeute comme une arme de guerre , le problème est que l' on voit quelquefois des armes non létales utilisées , non pas comme une alternative à la force létale , mais comme un amplificateur de cette force -- vous utilisez d' abord les armes non létales afin que les armes létales soient plus efficaces .</td>\n",
       "    </tr>\n",
       "    <tr>\n",
       "      <th>9931</th>\n",
       "      <td>même à Monterey , j' ai vérifié . Et l' article disait : \" L' ancien vice-président Al Gore a annoncé hier au Nigéria , \" Ma femme Tipper et moi avons ouvert un restaurant familial à bas prix , le Shoney' s , et nous nous en occupons nous - mêmes . \" --Rires-- Avant même d' avoir posé le pied aux USA , David Letterman et Jay Leno s' étaient déjà jetés sur l' histoire -- l' un d' eux me montrait sur une photo avec une toque de chef , et avec Tipper disant \" Un autre hamburger avec des frites , s' il vous plaît ! \"</td>\n",
       "    </tr>\n",
       "    <tr>\n",
       "      <th>10759</th>\n",
       "      <td>Et ces simples mots ont ravivé de nombreuses pensées que j' avais eu auparavant , sur la fusion de nos âmes en une entité de niveau plus élevé , sur le fait qu' au coeur de nos deux âmes se trouvent des espoirs et des rêves identiques pour nos enfants , sur la notion que ces espoirs n' étaient pas des espoirs séparés ou distincts , mais n' étaient qu' un espoir , une chose claire qui nous définissait tous les deux , qui nous soudaient en une seule unité -- le genre d' unité que je n' avais que vaguement imaginé avant d' être marié et d' avoir des enfants .</td>\n",
       "    </tr>\n",
       "  </tbody>\n",
       "</table>\n",
       "</div>"
      ],
      "text/plain": [
       "                                                                                                                                                                                                                                                                                                                                                                                                                                                                                                                                                                                     text\n",
       "4710         Le second problème de l' utilisation des armes non létales par l' armée , dont on parle parfois , c' est d' ailleurs la raison pour laquelle , dans la convention sur les armes chimiques , il est très clair que vous ne pouvez pas utiliser des agents anti-émeute comme une arme de guerre , le problème est que l' on voit quelquefois des armes non létales utilisées , non pas comme une alternative à la force létale , mais comme un amplificateur de cette force -- vous utilisez d' abord les armes non létales afin que les armes létales soient plus efficaces .\n",
       "9931                                               même à Monterey , j' ai vérifié . Et l' article disait : \" L' ancien vice-président Al Gore a annoncé hier au Nigéria , \" Ma femme Tipper et moi avons ouvert un restaurant familial à bas prix , le Shoney' s , et nous nous en occupons nous - mêmes . \" --Rires-- Avant même d' avoir posé le pied aux USA , David Letterman et Jay Leno s' étaient déjà jetés sur l' histoire -- l' un d' eux me montrait sur une photo avec une toque de chef , et avec Tipper disant \" Un autre hamburger avec des frites , s' il vous plaît ! \"\n",
       "10759  Et ces simples mots ont ravivé de nombreuses pensées que j' avais eu auparavant , sur la fusion de nos âmes en une entité de niveau plus élevé , sur le fait qu' au coeur de nos deux âmes se trouvent des espoirs et des rêves identiques pour nos enfants , sur la notion que ces espoirs n' étaient pas des espoirs séparés ou distincts , mais n' étaient qu' un espoir , une chose claire qui nous définissait tous les deux , qui nous soudaient en une seule unité -- le genre d' unité que je n' avais que vaguement imaginé avant d' être marié et d' avoir des enfants ."
      ]
     },
     "execution_count": 234,
     "metadata": {},
     "output_type": "execute_result"
    }
   ],
   "source": [
    "train_lang2_fr[train_lang2_fr.text.str.len() > 500]#.sample(n = 5)"
   ]
  },
  {
   "cell_type": "markdown",
   "metadata": {},
   "source": [
    "- Almost no duplicated lines in train_lang1_en\n",
    "- Some sentences with more than 400 characters contains actually several sentences (not split)\n",
    "- Max sequence 562\n",
    "- Most sequences with less than 272 characters\n",
    "- Presence of case and punctuation\n",
    "- But tokenize (ex: \"n'\", \"étaient\")"
   ]
  },
  {
   "cell_type": "markdown",
   "metadata": {},
   "source": [
    "# Custom tokenizer (faster version)\n",
    "\n",
    "- Remove NER, parser in Spacy pipeline (faster)\n",
    "- Ability to split sentences (some sentences in dataset are composed of several ones)"
   ]
  },
  {
   "cell_type": "code",
   "execution_count": 163,
   "metadata": {},
   "outputs": [],
   "source": [
    "# Inspired by TA's function\n",
    "def my_tokenize(input_dataframe, tokenizer, keep_case, keep_punctuation, split_sentence=False):\n",
    "    for i, row in progress_bar(input_dataframe.text.iteritems(), total=input_dataframe.shape[0]):\n",
    "        # Remove NER, dependency parser and POS to speed up\n",
    "        doc = tokenizer(row, disable=[\"parser\", \"entity\", \"ner\"])\n",
    "        if split_sentence:\n",
    "            sentence = []\n",
    "        for sent in doc.sents:\n",
    "            tokens_list = [w for w in sent]\n",
    "            if not keep_punctuation:\n",
    "                tokens_list = [t for t in tokens_list if not t.is_punct or t.is_quote or t.text in [\"-\", \"%\", \"--\", \"–\", \"/\", \"..\", \"…\", \"&\", \"“\", \"”\"]]\n",
    "            tokens_list = [t.text for t in tokens_list]\n",
    "            if not keep_case:\n",
    "                tokens_list = [w.lower() for w in tokens_list]\n",
    "            if len(tokens_list) == 0:\n",
    "                continue\n",
    "            if split_sentence:\n",
    "                sentence += tokens_list\n",
    "            else:\n",
    "                yield tokens_list\n",
    "        if split_sentence:\n",
    "            yield sentence"
   ]
  },
  {
   "cell_type": "markdown",
   "metadata": {},
   "source": [
    "# Preprocessing english corpora\n",
    "\n",
    "## Check to see if tokenizer can have preprocess monolingual dataset to look similar to bilangual dataset"
   ]
  },
  {
   "cell_type": "code",
   "execution_count": 29,
   "metadata": {},
   "outputs": [
    {
     "data": {
      "text/html": [
       "\n",
       "    <div>\n",
       "        <style>\n",
       "            /* Turns off some styling */\n",
       "            progress {\n",
       "                /* gets rid of default border in Firefox and Opera. */\n",
       "                border: none;\n",
       "                /* Needs to be in here for Safari polyfill so background images work as expected. */\n",
       "                background-size: auto;\n",
       "            }\n",
       "            .progress-bar-interrupted, .progress-bar-interrupted::-webkit-progress-bar {\n",
       "                background: #F44336;\n",
       "            }\n",
       "        </style>\n",
       "      <progress value='30' class='' max='30', style='width:300px; height:20px; vertical-align: middle;'></progress>\n",
       "      100.00% [30/30 00:00<00:00]\n",
       "    </div>\n",
       "    "
      ],
      "text/plain": [
       "<IPython.core.display.HTML object>"
      ]
     },
     "metadata": {},
     "output_type": "display_data"
    },
    {
     "data": {
      "text/html": [
       "\n",
       "    <div>\n",
       "        <style>\n",
       "            /* Turns off some styling */\n",
       "            progress {\n",
       "                /* gets rid of default border in Firefox and Opera. */\n",
       "                border: none;\n",
       "                /* Needs to be in here for Safari polyfill so background images work as expected. */\n",
       "                background-size: auto;\n",
       "            }\n",
       "            .progress-bar-interrupted, .progress-bar-interrupted::-webkit-progress-bar {\n",
       "                background: #F44336;\n",
       "            }\n",
       "        </style>\n",
       "      <progress value='11000' class='' max='11000', style='width:300px; height:20px; vertical-align: middle;'></progress>\n",
       "      100.00% [11000/11000 00:36<00:00]\n",
       "    </div>\n",
       "    "
      ],
      "text/plain": [
       "<IPython.core.display.HTML object>"
      ]
     },
     "metadata": {},
     "output_type": "display_data"
    }
   ],
   "source": [
    "unaligned_en_tokenized = list(my_tokenize(unaligned_en[:30], tokenizer=tokenizer_en, \n",
    "                               keep_case=False, keep_punctuation=False))\n",
    "# Required also to extend the vocab\n",
    "train_lang1_en_tokenized = list(my_tokenize(train_lang1_en, tokenizer=tokenizer_en, \n",
    "                                   keep_case=False, keep_punctuation=False))"
   ]
  },
  {
   "cell_type": "code",
   "execution_count": 30,
   "metadata": {},
   "outputs": [
    {
     "data": {
      "text/plain": [
       "(10059, ['\"\"', '#'])"
      ]
     },
     "execution_count": 30,
     "metadata": {},
     "output_type": "execute_result"
    }
   ],
   "source": [
    "len(tokenizer_en.vocab), list(tokenizer_en.vocab.strings)[:2]"
   ]
  },
  {
   "cell_type": "code",
   "execution_count": 31,
   "metadata": {},
   "outputs": [
    {
     "data": {
      "text/html": [
       "<div>\n",
       "<style scoped>\n",
       "    .dataframe tbody tr th:only-of-type {\n",
       "        vertical-align: middle;\n",
       "    }\n",
       "\n",
       "    .dataframe tbody tr th {\n",
       "        vertical-align: top;\n",
       "    }\n",
       "\n",
       "    .dataframe thead th {\n",
       "        text-align: right;\n",
       "    }\n",
       "</style>\n",
       "<table border=\"1\" class=\"dataframe\">\n",
       "  <thead>\n",
       "    <tr style=\"text-align: right;\">\n",
       "      <th></th>\n",
       "      <th>text</th>\n",
       "    </tr>\n",
       "  </thead>\n",
       "  <tbody>\n",
       "    <tr>\n",
       "      <th>2009</th>\n",
       "      <td>i think that shows that in this debate at least sweeteners can be a '' as well</td>\n",
       "    </tr>\n",
       "    <tr>\n",
       "      <th>2506</th>\n",
       "      <td>indeed liam byrne the outgoing labour budget chief left a note to his successor saying “ i ’m afraid there is no money</td>\n",
       "    </tr>\n",
       "    <tr>\n",
       "      <th>3562</th>\n",
       "      <td>it makes no reference to the typical example of turkey which has no respect for anything but which ....</td>\n",
       "    </tr>\n",
       "    <tr>\n",
       "      <th>3730</th>\n",
       "      <td>that in turn requires “ not just engaging state to state ” but also working “ with players and actors outside of the traditional channels we ’ve engaged in ”</td>\n",
       "    </tr>\n",
       "    <tr>\n",
       "      <th>3882</th>\n",
       "      <td>nor is it acceptable for eur 2 million to be allocated to ineligible material in the sector of ....</td>\n",
       "    </tr>\n",
       "    <tr>\n",
       "      <th>3931</th>\n",
       "      <td>so we ’ve run two flight schools</td>\n",
       "    </tr>\n",
       "    <tr>\n",
       "      <th>6706</th>\n",
       "      <td>· since successful tb treatment outcomes are below the 85 % threshold an enhancement of national tb control programs is needed in most european countries</td>\n",
       "    </tr>\n",
       "    <tr>\n",
       "      <th>10835</th>\n",
       "      <td>· second falling international prices create an opportunity to bring inflation back down from uncomfortably high levels caused by the global food and fuel price crisis early last year</td>\n",
       "    </tr>\n",
       "  </tbody>\n",
       "</table>\n",
       "</div>"
      ],
      "text/plain": [
       "                                                                                                                                                                                          text\n",
       "2009                                                                                                            i think that shows that in this debate at least sweeteners can be a '' as well\n",
       "2506                                                                    indeed liam byrne the outgoing labour budget chief left a note to his successor saying “ i ’m afraid there is no money\n",
       "3562                                                                                   it makes no reference to the typical example of turkey which has no respect for anything but which ....\n",
       "3730                             that in turn requires “ not just engaging state to state ” but also working “ with players and actors outside of the traditional channels we ’ve engaged in ”\n",
       "3882                                                                                       nor is it acceptable for eur 2 million to be allocated to ineligible material in the sector of ....\n",
       "3931                                                                                                                                                          so we ’ve run two flight schools\n",
       "6706                                 · since successful tb treatment outcomes are below the 85 % threshold an enhancement of national tb control programs is needed in most european countries\n",
       "10835  · second falling international prices create an opportunity to bring inflation back down from uncomfortably high levels caused by the global food and fuel price crisis early last year"
      ]
     },
     "execution_count": 31,
     "metadata": {},
     "output_type": "execute_result"
    }
   ],
   "source": [
    "# Below sentences are the ones with a mismatch after tokenizer\n",
    "mask = train_lang1_en.text.isin([\" \".join(s).replace(\"' \", \"'\") for s in train_lang1_en_tokenized])\n",
    "train_lang1_en[~mask]#[:5]"
   ]
  },
  {
   "cell_type": "code",
   "execution_count": 32,
   "metadata": {},
   "outputs": [
    {
     "data": {
      "text/plain": [
       "2009                                                                                                            i think that shows that in this debate at least sweeteners can be a '' as well\n",
       "2506                                                                   indeed liam byrne the outgoing labour budget chief left a note to his successor saying “ i ’ m afraid there is no money\n",
       "3562                                                                                        it makes no reference to the typical example of turkey which has no respect for anything but which\n",
       "3730                            that in turn requires “ not just engaging state to state ” but also working “ with players and actors outside of the traditional channels we ’ ve engaged in ”\n",
       "3882                                                                                            nor is it acceptable for eur 2 million to be allocated to ineligible material in the sector of\n",
       "3931                                                                                                                                                         so we ’ ve run two flight schools\n",
       "6706                                   since successful tb treatment outcomes are below the 85 % threshold an enhancement of national tb control programs is needed in most european countries\n",
       "10835    second falling international prices create an opportunity to bring inflation back down from uncomfortably high levels caused by the global food and fuel price crisis early last year\n",
       "dtype: object"
      ]
     },
     "execution_count": 32,
     "metadata": {},
     "output_type": "execute_result"
    }
   ],
   "source": [
    "pd.Series([\" \".join(s).replace(\"' \", \"'\").replace(\"''\", \"'' \") for s in train_lang1_en_tokenized])[~mask]\n"
   ]
  },
  {
   "cell_type": "markdown",
   "metadata": {},
   "source": [
    "Tokenizer logic keep the structure (except for quote but not a lot of occurence)"
   ]
  },
  {
   "cell_type": "markdown",
   "metadata": {},
   "source": [
    "## Tokenize English corpora"
   ]
  },
  {
   "cell_type": "code",
   "execution_count": 36,
   "metadata": {},
   "outputs": [
    {
     "data": {
      "text/html": [
       "\n",
       "    <div>\n",
       "        <style>\n",
       "            /* Turns off some styling */\n",
       "            progress {\n",
       "                /* gets rid of default border in Firefox and Opera. */\n",
       "                border: none;\n",
       "                /* Needs to be in here for Safari polyfill so background images work as expected. */\n",
       "                background-size: auto;\n",
       "            }\n",
       "            .progress-bar-interrupted, .progress-bar-interrupted::-webkit-progress-bar {\n",
       "                background: #F44336;\n",
       "            }\n",
       "        </style>\n",
       "      <progress value='474000' class='' max='474000', style='width:300px; height:20px; vertical-align: middle;'></progress>\n",
       "      100.00% [474000/474000 27:14<00:00]\n",
       "    </div>\n",
       "    "
      ],
      "text/plain": [
       "<IPython.core.display.HTML object>"
      ]
     },
     "metadata": {},
     "output_type": "display_data"
    },
    {
     "data": {
      "text/html": [
       "\n",
       "    <div>\n",
       "        <style>\n",
       "            /* Turns off some styling */\n",
       "            progress {\n",
       "                /* gets rid of default border in Firefox and Opera. */\n",
       "                border: none;\n",
       "                /* Needs to be in here for Safari polyfill so background images work as expected. */\n",
       "                background-size: auto;\n",
       "            }\n",
       "            .progress-bar-interrupted, .progress-bar-interrupted::-webkit-progress-bar {\n",
       "                background: #F44336;\n",
       "            }\n",
       "        </style>\n",
       "      <progress value='11000' class='' max='11000', style='width:300px; height:20px; vertical-align: middle;'></progress>\n",
       "      100.00% [11000/11000 00:34<00:00]\n",
       "    </div>\n",
       "    "
      ],
      "text/plain": [
       "<IPython.core.display.HTML object>"
      ]
     },
     "metadata": {},
     "output_type": "display_data"
    }
   ],
   "source": [
    "unaligned_en_tokenized = list(my_tokenize(unaligned_en, tokenizer=tokenizer_en, \n",
    "                               keep_case=False, keep_punctuation=False))\n",
    "# Required also to extend the vocab\n",
    "train_lang1_en_tokenized = list(my_tokenize(train_lang1_en, tokenizer=tokenizer_en, \n",
    "                                   keep_case=False, keep_punctuation=False))"
   ]
  },
  {
   "cell_type": "code",
   "execution_count": 114,
   "metadata": {},
   "outputs": [
    {
     "data": {
      "text/plain": [
       "['let',\n",
       " \"'s\",\n",
       " 'zoom',\n",
       " 'in',\n",
       " 'on',\n",
       " 'one',\n",
       " 'of',\n",
       " 'the',\n",
       " 'most',\n",
       " 'strategic',\n",
       " 'areas',\n",
       " 'of',\n",
       " 'the',\n",
       " 'world',\n",
       " 'eastern',\n",
       " 'eurasia']"
      ]
     },
     "execution_count": 114,
     "metadata": {},
     "output_type": "execute_result"
    }
   ],
   "source": [
    "np.random.choice(unaligned_en_tokenized)"
   ]
  },
  {
   "cell_type": "markdown",
   "metadata": {},
   "source": [
    "## Numericalize Class"
   ]
  },
  {
   "cell_type": "code",
   "execution_count": 65,
   "metadata": {},
   "outputs": [],
   "source": [
    "\"\"\"\n",
    "Preprocessing of inputs: Converts list of words into set of words\n",
    "\"\"\"\n",
    "def create_vocab(data, word_to_token=None):\n",
    "    if word_to_token is None: \n",
    "        word_to_token = {} \n",
    "    token_id = len(word_to_token)\n",
    "\n",
    "    for i, list_of_words in enumerate(data):\n",
    "        for w in list_of_words:\n",
    "            if w not in word_to_token:\n",
    "                word_to_token[w] = token_id\n",
    "                token_id += 1\n",
    "    return word_to_token"
   ]
  },
  {
   "cell_type": "markdown",
   "metadata": {},
   "source": [
    "## Compare vocab in both English corpura"
   ]
  },
  {
   "cell_type": "code",
   "execution_count": 69,
   "metadata": {},
   "outputs": [],
   "source": [
    "word_to_token_en_monolingual = create_vocab(unaligned_en_tokenized)\n",
    "\n",
    "word_to_token_en_bilangual = create_vocab(train_lang1_en_tokenized)"
   ]
  },
  {
   "cell_type": "code",
   "execution_count": 75,
   "metadata": {},
   "outputs": [
    {
     "name": "stdout",
     "output_type": "stream",
     "text": [
      "Unique tokens from bilangual corpus 0.03295978905735003\n"
     ]
    }
   ],
   "source": [
    "present_in_bilangual_not_monolingual = { k : word_to_token_en_bilangual[k] \n",
    "                                        for k in \n",
    "                                        set(word_to_token_en_bilangual) - \n",
    "                                        set(word_to_token_en_monolingual) }\n",
    "print(\"Unique tokens from bilangual corpus\", len(present_in_bilangual_not_monolingual) / len(word_to_token_en_bilangual))"
   ]
  },
  {
   "cell_type": "code",
   "execution_count": 76,
   "metadata": {},
   "outputs": [
    {
     "name": "stdout",
     "output_type": "stream",
     "text": [
      "Unique tokens from monolingual corpus 0.7799646690220652\n"
     ]
    }
   ],
   "source": [
    "present_in_monolingual_not_bilangual = { k : word_to_token_en_monolingual[k] \n",
    "                                        for k in \n",
    "                                        set(word_to_token_en_monolingual) - \n",
    "                                        set(word_to_token_en_bilangual) }\n",
    "print(\"Unique tokens from monolingual corpus\", len(present_in_monolingual_not_bilangual) / len(word_to_token_en_monolingual))"
   ]
  },
  {
   "cell_type": "markdown",
   "metadata": {},
   "source": [
    "Safety check OK: 3% only present in bilingual not in monlingual (77% for the reverse)"
   ]
  },
  {
   "cell_type": "markdown",
   "metadata": {},
   "source": [
    "## Some statistics at token level"
   ]
  },
  {
   "cell_type": "code",
   "execution_count": 79,
   "metadata": {},
   "outputs": [
    {
     "data": {
      "text/plain": [
       "count    492443.000000\n",
       "mean         17.962613\n",
       "std           9.700183\n",
       "min           1.000000\n",
       "25%          10.000000\n",
       "50%          17.000000\n",
       "75%          25.000000\n",
       "90%          32.000000\n",
       "99%          40.000000\n",
       "max         126.000000\n",
       "dtype: float64"
      ]
     },
     "execution_count": 79,
     "metadata": {},
     "output_type": "execute_result"
    }
   ],
   "source": [
    "monolingual_stats = pd.Series([len(s) for s in unaligned_en_tokenized])\n",
    "monolingual_stats.describe(percentiles=[.25, .5, .75, .9, .99])"
   ]
  },
  {
   "cell_type": "code",
   "execution_count": 84,
   "metadata": {},
   "outputs": [
    {
     "data": {
      "text/plain": [
       "Text(0.5, 1.0, 'Histogram of length of sequences at token level (word) for monolingual')"
      ]
     },
     "execution_count": 84,
     "metadata": {},
     "output_type": "execute_result"
    },
    {
     "data": {
      "image/png": "[encoded data removed]",
      "text/plain": [
       "<Figure size 432x288 with 1 Axes>"
      ]
     },
     "metadata": {
      "needs_background": "light"
     },
     "output_type": "display_data"
    }
   ],
   "source": [
    "ax = monolingual_stats.hist(bins=100)\n",
    "ax.set_title(\"Histogram of length of sequences at token level (word) for monolingual\")"
   ]
  },
  {
   "cell_type": "code",
   "execution_count": 85,
   "metadata": {},
   "outputs": [
    {
     "data": {
      "text/plain": [
       "count    11000.000000\n",
       "mean        18.684909\n",
       "std          9.864211\n",
       "min          1.000000\n",
       "25%         11.000000\n",
       "50%         18.000000\n",
       "75%         26.000000\n",
       "90%         32.000000\n",
       "99%         41.000000\n",
       "max         95.000000\n",
       "dtype: float64"
      ]
     },
     "execution_count": 85,
     "metadata": {},
     "output_type": "execute_result"
    }
   ],
   "source": [
    "bilingual_stats = pd.Series([len(s) for s in train_lang1_en_tokenized])\n",
    "bilingual_stats.describe(percentiles=[.25, .5, .75, .9, .99])"
   ]
  },
  {
   "cell_type": "code",
   "execution_count": 86,
   "metadata": {},
   "outputs": [
    {
     "data": {
      "text/plain": [
       "Text(0.5, 1.0, 'Histogram of length of sequences at token level (word) for bilingual')"
      ]
     },
     "execution_count": 86,
     "metadata": {},
     "output_type": "execute_result"
    },
    {
     "data": {
      "image/png": "[encoded data removed]",
      "text/plain": [
       "<Figure size 432x288 with 1 Axes>"
      ]
     },
     "metadata": {
      "needs_background": "light"
     },
     "output_type": "display_data"
    }
   ],
   "source": [
    "ax = bilingual_stats.hist(bins=100)\n",
    "ax.set_title(\"Histogram of length of sequences at token level (word) for bilingual\")\n"
   ]
  },
  {
   "cell_type": "markdown",
   "metadata": {},
   "source": [
    "Safety check OK: the distribution of sequences seems very similar between both dataset\n",
    "\n",
    "The actual number of sentences in 492k in the monolingual (not 470k)"
   ]
  },
  {
   "cell_type": "markdown",
   "metadata": {},
   "source": [
    "## Numericalize English corpora"
   ]
  },
  {
   "cell_type": "code",
   "execution_count": 89,
   "metadata": {},
   "outputs": [],
   "source": [
    "word_to_token_en = create_vocab(unaligned_en_tokenized)\n",
    "word_to_token_en = create_vocab(train_lang1_en_tokenized, word_to_token_en)"
   ]
  },
  {
   "cell_type": "code",
   "execution_count": 90,
   "metadata": {},
   "outputs": [],
   "source": [
    "token_to_word_en = {v:k  for k,v in word_to_token_en.items()}"
   ]
  },
  {
   "cell_type": "code",
   "execution_count": 92,
   "metadata": {},
   "outputs": [
    {
     "name": "stdout",
     "output_type": "stream",
     "text": [
      "transparent 5069\n",
      "write 155\n",
      "fujita 47987\n",
      "marcie 56907\n",
      "advancing 3568\n",
      "sliders 50352\n",
      "spendthrift 46855\n",
      "notably 6856\n",
      "enrol 54436\n",
      "isfahan 35237\n"
     ]
    }
   ],
   "source": [
    "for key in np.random.choice(list(word_to_token_en.keys()), size=10):\n",
    "    print(key, word_to_token_en[key])"
   ]
  },
  {
   "cell_type": "code",
   "execution_count": 95,
   "metadata": {},
   "outputs": [],
   "source": [
    "with open('word_to_token_en.pickle', 'wb') as handle:\n",
    "    pickle.dump(word_to_token_en, handle, protocol=pickle.HIGHEST_PROTOCOL)\n",
    "    \n",
    "with open('token_to_word_en.pickle', 'wb') as handle:\n",
    "    pickle.dump(token_to_word_en, handle, protocol=pickle.HIGHEST_PROTOCOL)\n"
   ]
  },
  {
   "cell_type": "code",
   "execution_count": 105,
   "metadata": {},
   "outputs": [],
   "source": [
    "unaligned_en_numericalized = [[word_to_token_en[w]  for w in s] for s in unaligned_en_tokenized]"
   ]
  },
  {
   "cell_type": "code",
   "execution_count": 109,
   "metadata": {},
   "outputs": [
    {
     "data": {
      "text/plain": [
       "'i made my report available in all accessible formats at my own expense'"
      ]
     },
     "execution_count": 109,
     "metadata": {},
     "output_type": "execute_result"
    }
   ],
   "source": [
    "\" \".join([token_to_word_en[t] for t in np.random.choice(unaligned_en_numericalized)])"
   ]
  },
  {
   "cell_type": "code",
   "execution_count": 106,
   "metadata": {},
   "outputs": [
    {
     "data": {
      "text/plain": [
       "(492443, 492443)"
      ]
     },
     "execution_count": 106,
     "metadata": {},
     "output_type": "execute_result"
    }
   ],
   "source": [
    "len(unaligned_en_tokenized), len(unaligned_en_numericalized)"
   ]
  },
  {
   "cell_type": "code",
   "execution_count": 110,
   "metadata": {},
   "outputs": [],
   "source": [
    "train_lang1_en_numericalized = [[word_to_token_en[w]  for w in s] for s in train_lang1_en_tokenized]"
   ]
  },
  {
   "cell_type": "code",
   "execution_count": 111,
   "metadata": {},
   "outputs": [
    {
     "data": {
      "text/plain": [
       "'this makes it necessary to have proper rules governing transport of this kind'"
      ]
     },
     "execution_count": 111,
     "metadata": {},
     "output_type": "execute_result"
    }
   ],
   "source": [
    "\" \".join([token_to_word_en[t] for t in np.random.choice(train_lang1_en_numericalized)])"
   ]
  },
  {
   "cell_type": "code",
   "execution_count": 112,
   "metadata": {},
   "outputs": [
    {
     "data": {
      "text/plain": [
       "(11000, 11000)"
      ]
     },
     "execution_count": 112,
     "metadata": {},
     "output_type": "execute_result"
    }
   ],
   "source": [
    "len(train_lang1_en_tokenized), len(train_lang1_en_numericalized)"
   ]
  },
  {
   "cell_type": "code",
   "execution_count": 113,
   "metadata": {},
   "outputs": [],
   "source": [
    "with open('train_lang1_en_numericalized.pickle', 'wb') as handle:\n",
    "    pickle.dump(train_lang1_en_numericalized, handle, protocol=pickle.HIGHEST_PROTOCOL)\n",
    "    \n",
    "with open('unaligned_en_numericalized.pickle', 'wb') as handle:\n",
    "    pickle.dump(unaligned_en_numericalized, handle, protocol=pickle.HIGHEST_PROTOCOL)\n"
   ]
  },
  {
   "cell_type": "code",
   "execution_count": 87,
   "metadata": {},
   "outputs": [],
   "source": [
    "# TODO HERE faire la même pour le français et sauver le tout"
   ]
  },
  {
   "cell_type": "markdown",
   "metadata": {},
   "source": [
    "# Preprocessing French corpora\n",
    "\n",
    "## Check to see if tokenizer can have preprocess monolingual dataset to look similar to bilangual dataset"
   ]
  },
  {
   "cell_type": "code",
   "execution_count": 164,
   "metadata": {},
   "outputs": [
    {
     "data": {
      "text/html": [
       "\n",
       "    <div>\n",
       "        <style>\n",
       "            /* Turns off some styling */\n",
       "            progress {\n",
       "                /* gets rid of default border in Firefox and Opera. */\n",
       "                border: none;\n",
       "                /* Needs to be in here for Safari polyfill so background images work as expected. */\n",
       "                background-size: auto;\n",
       "            }\n",
       "            .progress-bar-interrupted, .progress-bar-interrupted::-webkit-progress-bar {\n",
       "                background: #F44336;\n",
       "            }\n",
       "        </style>\n",
       "      <progress value='30' class='' max='30', style='width:300px; height:20px; vertical-align: middle;'></progress>\n",
       "      100.00% [30/30 00:00<00:00]\n",
       "    </div>\n",
       "    "
      ],
      "text/plain": [
       "<IPython.core.display.HTML object>"
      ]
     },
     "metadata": {},
     "output_type": "display_data"
    },
    {
     "data": {
      "text/html": [
       "\n",
       "    <div>\n",
       "        <style>\n",
       "            /* Turns off some styling */\n",
       "            progress {\n",
       "                /* gets rid of default border in Firefox and Opera. */\n",
       "                border: none;\n",
       "                /* Needs to be in here for Safari polyfill so background images work as expected. */\n",
       "                background-size: auto;\n",
       "            }\n",
       "            .progress-bar-interrupted, .progress-bar-interrupted::-webkit-progress-bar {\n",
       "                background: #F44336;\n",
       "            }\n",
       "        </style>\n",
       "      <progress value='11000' class='' max='11000', style='width:300px; height:20px; vertical-align: middle;'></progress>\n",
       "      100.00% [11000/11000 00:36<00:00]\n",
       "    </div>\n",
       "    "
      ],
      "text/plain": [
       "<IPython.core.display.HTML object>"
      ]
     },
     "metadata": {},
     "output_type": "display_data"
    }
   ],
   "source": [
    "unaligned_fr_tokenized = list(my_tokenize(unaligned_fr[:30], tokenizer=tokenizer_fr, \n",
    "                               keep_case=True, keep_punctuation=True))\n",
    "# Required also to extend the vocab\n",
    "train_lang2_fr_tokenized = list(my_tokenize(train_lang2_fr, tokenizer=tokenizer_fr, \n",
    "                                   keep_case=True, keep_punctuation=True, split_sentence=True))"
   ]
  },
  {
   "cell_type": "code",
   "execution_count": 165,
   "metadata": {},
   "outputs": [
    {
     "data": {
      "text/plain": [
       "11000"
      ]
     },
     "execution_count": 165,
     "metadata": {},
     "output_type": "execute_result"
    }
   ],
   "source": [
    "len(train_lang2_fr_tokenized)"
   ]
  },
  {
   "cell_type": "code",
   "execution_count": 166,
   "metadata": {},
   "outputs": [
    {
     "data": {
      "text/plain": [
       "[l, ', Union, européenne]"
      ]
     },
     "execution_count": 166,
     "metadata": {},
     "output_type": "execute_result"
    }
   ],
   "source": [
    "doc = tokenizer_fr(\"l' Union européenne\", disable=[\"parser\", \"entity\", \"ner\"])\n",
    "[t for t in doc]"
   ]
  },
  {
   "cell_type": "code",
   "execution_count": 172,
   "metadata": {},
   "outputs": [
    {
     "data": {
      "text/plain": [
       "\"Le territoire marin de l' Union européenne est plus vaste que son territoire terrestre . On y dénombre 1 200 ports et 90 % de ses exportations sont acheminées par mer .\""
      ]
     },
     "execution_count": 172,
     "metadata": {},
     "output_type": "execute_result"
    }
   ],
   "source": [
    "train_lang2_fr.text[4]"
   ]
  },
  {
   "cell_type": "code",
   "execution_count": 173,
   "metadata": {},
   "outputs": [
    {
     "data": {
      "text/plain": [
       "\"A la seconde , consciemment ou pas . A l ’ instant où vous décidez de vous concentrer sur quelque chose vous devez lui donnez un sens , Et quel qu' il soit , ce sens produit de l’ émotion .\""
      ]
     },
     "execution_count": 173,
     "metadata": {},
     "output_type": "execute_result"
    }
   ],
   "source": [
    "train_lang2_fr.text[427]"
   ]
  },
  {
   "cell_type": "code",
   "execution_count": 174,
   "metadata": {},
   "outputs": [
    {
     "name": "stdout",
     "output_type": "stream",
     "text": [
      "427\n",
      "A la seconde , consciemment ou pas . A l ’ instant où vous décidez de vous concentrer sur quelque chose vous devez lui donnez un sens , Et quel qu' il soit , ce sens produit de l’ émotion .\n",
      "A la seconde , consciemment ou pas . A l’ instant où vous décidez de vous concentrer sur quelque chose vous devez lui donnez un sens , Et quel qu' il soit , ce sens produit de l’ émotion .\n",
      "1247\n",
      "Je tiens à mettre en garde contre un assouplissement de la norme lorsqu ' il s' agit de juger la situation des droits de l' homme en Afrique où les violations pourraient être considérées comme des incidents inévitables .\n",
      "Je tiens à mettre en garde contre un assouplissement de la norme lorsqu' il s' agit de juger la situation des droits de l' homme en Afrique où les violations pourraient être considérées comme des incidents inévitables .\n",
      "1515\n",
      "Ce corridor , aujourd ' hui , est plus qu' un symbole , une réalité , fragile , mais tangible .\n",
      "Ce corridor , aujourd' hui , est plus qu' un symbole , une réalité , fragile , mais tangible .\n",
      "2034\n",
      "On pouvait lire ce matin le titre suivant dans un quotidien néerlandais : \" l ' Europe sauve la tartine des laveurs de vitres \" .\n",
      "On pouvait lire ce matin le titre suivant dans un quotidien néerlandais : \" l' Europe sauve la tartine des laveurs de vitres \" .\n",
      "2230\n",
      "C' est rentable . et c' est très ' maillage ' .\n",
      "C' est rentable . et c' est très' maillage' .\n",
      "2789\n",
      "Ces programmes développent ce que le journaliste américain Edward R. Murrow a qualifié d ’ « ultimes trois pieds » déterminants - communication face à face , avec la crédibilité accrue que crée la réciprocité .\n",
      "Ces programmes développent ce que le journaliste américain Edward R. Murrow a qualifié d’ « ultimes trois pieds » déterminants - communication face à face , avec la crédibilité accrue que crée la réciprocité .\n"
     ]
    }
   ],
   "source": [
    "nb_mistake = 0\n",
    "for i in range(len(train_lang2_fr)):\n",
    "    if train_lang2_fr.text[i] != \" \".join(train_lang2_fr_tokenized[i]).replace(\" ’\", \"’\").replace(\" ' \", \"' \").replace(\" '\", \"'\"):\n",
    "        print(i)\n",
    "        print(train_lang2_fr.text[i])\n",
    "        print(\" \".join(train_lang2_fr_tokenized[i]).replace(\" ’\", \"’\").replace(\" ' \", \"' \").replace(\" '\", \"'\"))\n",
    "        nb_mistake += 1\n",
    "        if nb_mistake > 5:\n",
    "            break"
   ]
  },
  {
   "cell_type": "code",
   "execution_count": 176,
   "metadata": {},
   "outputs": [
    {
     "data": {
      "text/html": [
       "<div>\n",
       "<style scoped>\n",
       "    .dataframe tbody tr th:only-of-type {\n",
       "        vertical-align: middle;\n",
       "    }\n",
       "\n",
       "    .dataframe tbody tr th {\n",
       "        vertical-align: top;\n",
       "    }\n",
       "\n",
       "    .dataframe thead th {\n",
       "        text-align: right;\n",
       "    }\n",
       "</style>\n",
       "<table border=\"1\" class=\"dataframe\">\n",
       "  <thead>\n",
       "    <tr style=\"text-align: right;\">\n",
       "      <th></th>\n",
       "      <th>text</th>\n",
       "    </tr>\n",
       "  </thead>\n",
       "  <tbody>\n",
       "    <tr>\n",
       "      <th>427</th>\n",
       "      <td>A la seconde , consciemment ou pas . A l ’ instant où vous décidez de vous concentrer sur quelque chose vous devez lui donnez un sens , Et quel qu' il soit , ce sens produit de l’ émotion .</td>\n",
       "    </tr>\n",
       "    <tr>\n",
       "      <th>1247</th>\n",
       "      <td>Je tiens à mettre en garde contre un assouplissement de la norme lorsqu ' il s' agit de juger la situation des droits de l' homme en Afrique où les violations pourraient être considérées comme des incidents inévitables .</td>\n",
       "    </tr>\n",
       "    <tr>\n",
       "      <th>1515</th>\n",
       "      <td>Ce corridor , aujourd ' hui , est plus qu' un symbole , une réalité , fragile , mais tangible .</td>\n",
       "    </tr>\n",
       "    <tr>\n",
       "      <th>2034</th>\n",
       "      <td>On pouvait lire ce matin le titre suivant dans un quotidien néerlandais : \" l ' Europe sauve la tartine des laveurs de vitres \" .</td>\n",
       "    </tr>\n",
       "    <tr>\n",
       "      <th>2230</th>\n",
       "      <td>C' est rentable . et c' est très ' maillage ' .</td>\n",
       "    </tr>\n",
       "    <tr>\n",
       "      <th>2789</th>\n",
       "      <td>Ces programmes développent ce que le journaliste américain Edward R. Murrow a qualifié d ’ « ultimes trois pieds » déterminants - communication face à face , avec la crédibilité accrue que crée la réciprocité .</td>\n",
       "    </tr>\n",
       "    <tr>\n",
       "      <th>3893</th>\n",
       "      <td>Cependant , il nous faut admettre que nous avons jusqu ' à présent été inopérants , puisque ces réseaux se multiplient , et nous avons recueilli récemment des témoignages sur leur action , notamment l' exploitation de femmes originaires d' Albanie et du Kosovo .</td>\n",
       "    </tr>\n",
       "    <tr>\n",
       "      <th>4746</th>\n",
       "      <td>( L ' Assemblée , debout , applaudit longuement l' orateur )</td>\n",
       "    </tr>\n",
       "    <tr>\n",
       "      <th>6735</th>\n",
       "      <td>Il y a trois ans , si quelqu ' un s' était levé ici pour annoncer ce qu' il se passe aujourd ' hui , il aurait certainement été traité de fou .</td>\n",
       "    </tr>\n",
       "    <tr>\n",
       "      <th>7248</th>\n",
       "      <td>Vous n’ avez ressenti aucune pitié pour vos victimes ? » C’ étaient des meurtres très ‘ intimes ’ : il a étranglé ses victimes .</td>\n",
       "    </tr>\n",
       "    <tr>\n",
       "      <th>8192</th>\n",
       "      <td>Monsieur le Président , au groupe du parti populaire européen ( démocrates - chrétiens ) et des démocrates européens , nous soutenons la recommandation de Mme in ' t Veld relative à l' utilisation des données des passagers .</td>\n",
       "    </tr>\n",
       "    <tr>\n",
       "      <th>8313</th>\n",
       "      <td>Le commissaire Figel ’ ne la néglige pas et en tient fortement compte .</td>\n",
       "    </tr>\n",
       "    <tr>\n",
       "      <th>8545</th>\n",
       "      <td>Je tiens la suite d' un témoin de première main , qui me l' a racontée il y a 35 ans , quand je réfléchissais au sujet pour un de mes projets de recherche , il m' a dit , \" Ce bonhomme -- n' oubliez pas qu' il n' était pas anesthésié -- après cette importante convulsion , s' est redressé , a regardé les trois collègues et a dit ' Qu' est -ce que vous foutez , bande de connards ? ' \" Si seulement je savais le dire en italien .</td>\n",
       "    </tr>\n",
       "    <tr>\n",
       "      <th>8857</th>\n",
       "      <td>Son développement est proposé en quatre étapes , à savoir sa définition en 2000 , son développement et sa validation jusqu ' en 2005 , son déploiement jusqu ' en 2007 et son exploitation au - delà .</td>\n",
       "    </tr>\n",
       "    <tr>\n",
       "      <th>9072</th>\n",
       "      <td>CNN et la BBC ont été attaqué pour avoir fait preuve de partialité en relayant l ’ « aspect humain » des manifestants plutôt que les aspects plus obscurs de l’ insurrection .</td>\n",
       "    </tr>\n",
       "    <tr>\n",
       "      <th>9375</th>\n",
       "      <td>Si on revient à la mappemonde de nuit , on trouve un indice de ce qui a conduit à ce changement drastique des règles en Chine. ™ Le point le plus brillant en Chine , Que l' on peut voir juste à côté de la ligne , là , c' est Hong Kong .</td>\n",
       "    </tr>\n",
       "    <tr>\n",
       "      <th>9439</th>\n",
       "      <td>Aux Pays - bas , on pense toujours à une ligne Amsterdam - Lelystad - Groningue , bien qu' il n' y ait aujourd ' hui plus aucune chance qu' elle passe via Brême et Hambourg vers Berlin .</td>\n",
       "    </tr>\n",
       "    <tr>\n",
       "      <th>10512</th>\n",
       "      <td>Dans toute l' Union européenne , des personnes ont des difficultés à payer leurs factures d' énergie et c' est pourquoi nous pensons que la question de la ' pauvreté énergétique ' devrait occuper une place importante dans l' agenda de l' Union .</td>\n",
       "    </tr>\n",
       "    <tr>\n",
       "      <th>10786</th>\n",
       "      <td>García Márquez a dit que la sagesse arrive lorsqu ' elle ne nous sert plus à rien .</td>\n",
       "    </tr>\n",
       "  </tbody>\n",
       "</table>\n",
       "</div>"
      ],
      "text/plain": [
       "                                                                                                                                                                                                                                                                                                                                                                                                                                                text\n",
       "427                                                                                                                                                                                                                                                    A la seconde , consciemment ou pas . A l ’ instant où vous décidez de vous concentrer sur quelque chose vous devez lui donnez un sens , Et quel qu' il soit , ce sens produit de l’ émotion .\n",
       "1247                                                                                                                                                                                                                    Je tiens à mettre en garde contre un assouplissement de la norme lorsqu ' il s' agit de juger la situation des droits de l' homme en Afrique où les violations pourraient être considérées comme des incidents inévitables .\n",
       "1515                                                                                                                                                                                                                                                                                                                                                 Ce corridor , aujourd ' hui , est plus qu' un symbole , une réalité , fragile , mais tangible .\n",
       "2034                                                                                                                                                                                                                                                                                                               On pouvait lire ce matin le titre suivant dans un quotidien néerlandais : \" l ' Europe sauve la tartine des laveurs de vitres \" .\n",
       "2230                                                                                                                                                                                                                                                                                                                                                                                                 C' est rentable . et c' est très ' maillage ' .\n",
       "2789                                                                                                                                                                                                                              Ces programmes développent ce que le journaliste américain Edward R. Murrow a qualifié d ’ « ultimes trois pieds » déterminants - communication face à face , avec la crédibilité accrue que crée la réciprocité .\n",
       "3893                                                                                                                                                                          Cependant , il nous faut admettre que nous avons jusqu ' à présent été inopérants , puisque ces réseaux se multiplient , et nous avons recueilli récemment des témoignages sur leur action , notamment l' exploitation de femmes originaires d' Albanie et du Kosovo .\n",
       "4746                                                                                                                                                                                                                                                                                                                                                                                    ( L ' Assemblée , debout , applaudit longuement l' orateur )\n",
       "6735                                                                                                                                                                                                                                                                                                 Il y a trois ans , si quelqu ' un s' était levé ici pour annoncer ce qu' il se passe aujourd ' hui , il aurait certainement été traité de fou .\n",
       "7248                                                                                                                                                                                                                                                                                                                Vous n’ avez ressenti aucune pitié pour vos victimes ? » C’ étaient des meurtres très ‘ intimes ’ : il a étranglé ses victimes .\n",
       "8192                                                                                                                                                                                                                Monsieur le Président , au groupe du parti populaire européen ( démocrates - chrétiens ) et des démocrates européens , nous soutenons la recommandation de Mme in ' t Veld relative à l' utilisation des données des passagers .\n",
       "8313                                                                                                                                                                                                                                                                                                                                                                         Le commissaire Figel ’ ne la néglige pas et en tient fortement compte .\n",
       "8545   Je tiens la suite d' un témoin de première main , qui me l' a racontée il y a 35 ans , quand je réfléchissais au sujet pour un de mes projets de recherche , il m' a dit , \" Ce bonhomme -- n' oubliez pas qu' il n' était pas anesthésié -- après cette importante convulsion , s' est redressé , a regardé les trois collègues et a dit ' Qu' est -ce que vous foutez , bande de connards ? ' \" Si seulement je savais le dire en italien .\n",
       "8857                                                                                                                                                                                                                                          Son développement est proposé en quatre étapes , à savoir sa définition en 2000 , son développement et sa validation jusqu ' en 2005 , son déploiement jusqu ' en 2007 et son exploitation au - delà .\n",
       "9072                                                                                                                                                                                                                                                                  CNN et la BBC ont été attaqué pour avoir fait preuve de partialité en relayant l ’ « aspect humain » des manifestants plutôt que les aspects plus obscurs de l’ insurrection .\n",
       "9375                                                                                                                                                                                                    Si on revient à la mappemonde de nuit , on trouve un indice de ce qui a conduit à ce changement drastique des règles en Chine. ™ Le point le plus brillant en Chine , Que l' on peut voir juste à côté de la ligne , là , c' est Hong Kong .\n",
       "9439                                                                                                                                                                                                                                                      Aux Pays - bas , on pense toujours à une ligne Amsterdam - Lelystad - Groningue , bien qu' il n' y ait aujourd ' hui plus aucune chance qu' elle passe via Brême et Hambourg vers Berlin .\n",
       "10512                                                                                                                                                                                          Dans toute l' Union européenne , des personnes ont des difficultés à payer leurs factures d' énergie et c' est pourquoi nous pensons que la question de la ' pauvreté énergétique ' devrait occuper une place importante dans l' agenda de l' Union .\n",
       "10786                                                                                                                                                                                                                                                                                                                                                            García Márquez a dit que la sagesse arrive lorsqu ' elle ne nous sert plus à rien ."
      ]
     },
     "execution_count": 176,
     "metadata": {},
     "output_type": "execute_result"
    }
   ],
   "source": [
    "# Below sentences are the ones with a mismatch after tokenizer\n",
    "mask = train_lang2_fr.text.isin([\" \".join(s).replace(\" ’\", \"’\").replace(\" ' \", \"' \").replace(\" '\", \"'\") for s in train_lang2_fr_tokenized])\n",
    "train_lang2_fr[~mask]#[:5]"
   ]
  },
  {
   "cell_type": "code",
   "execution_count": 177,
   "metadata": {},
   "outputs": [
    {
     "data": {
      "text/plain": [
       "427                                                                                                                                                                                                                                                     A la seconde , consciemment ou pas . A l’ instant où vous décidez de vous concentrer sur quelque chose vous devez lui donnez un sens , Et quel qu' il soit , ce sens produit de l’ émotion .\n",
       "1247                                                                                                                                                                                                                     Je tiens à mettre en garde contre un assouplissement de la norme lorsqu' il s' agit de juger la situation des droits de l' homme en Afrique où les violations pourraient être considérées comme des incidents inévitables .\n",
       "1515                                                                                                                                                                                                                                                                                                                                                  Ce corridor , aujourd' hui , est plus qu' un symbole , une réalité , fragile , mais tangible .\n",
       "2034                                                                                                                                                                                                                                                                                                                On pouvait lire ce matin le titre suivant dans un quotidien néerlandais : \" l' Europe sauve la tartine des laveurs de vitres \" .\n",
       "2230                                                                                                                                                                                                                                                                                                                                                                                                   C' est rentable . et c' est très' maillage' .\n",
       "2789                                                                                                                                                                                                                               Ces programmes développent ce que le journaliste américain Edward R. Murrow a qualifié d’ « ultimes trois pieds » déterminants - communication face à face , avec la crédibilité accrue que crée la réciprocité .\n",
       "3893                                                                                                                                                                           Cependant , il nous faut admettre que nous avons jusqu' à présent été inopérants , puisque ces réseaux se multiplient , et nous avons recueilli récemment des témoignages sur leur action , notamment l' exploitation de femmes originaires d' Albanie et du Kosovo .\n",
       "4746                                                                                                                                                                                                                                                                                                                                                                                     ( L' Assemblée , debout , applaudit longuement l' orateur )\n",
       "6735                                                                                                                                                                                                                                                                                                   Il y a trois ans , si quelqu' un s' était levé ici pour annoncer ce qu' il se passe aujourd' hui , il aurait certainement été traité de fou .\n",
       "7248                                                                                                                                                                                                                                                                                                                 Vous n’ avez ressenti aucune pitié pour vos victimes ? » C’ étaient des meurtres très ‘ intimes’ : il a étranglé ses victimes .\n",
       "8192                                                                                                                                                                                                                 Monsieur le Président , au groupe du parti populaire européen ( démocrates - chrétiens ) et des démocrates européens , nous soutenons la recommandation de Mme in' t Veld relative à l' utilisation des données des passagers .\n",
       "8313                                                                                                                                                                                                                                                                                                                                                                          Le commissaire Figel’ ne la néglige pas et en tient fortement compte .\n",
       "8545     Je tiens la suite d' un témoin de première main , qui me l' a racontée il y a 35 ans , quand je réfléchissais au sujet pour un de mes projets de recherche , il m' a dit , \" Ce bonhomme -- n' oubliez pas qu' il n' était pas anesthésié -- après cette importante convulsion , s' est redressé , a regardé les trois collègues et a dit' Qu' est -ce que vous foutez , bande de connards ?' \" Si seulement je savais le dire en italien .\n",
       "8857                                                                                                                                                                                                                                            Son développement est proposé en quatre étapes , à savoir sa définition en 2000 , son développement et sa validation jusqu' en 2005 , son déploiement jusqu' en 2007 et son exploitation au - delà .\n",
       "9072                                                                                                                                                                                                                                                                   CNN et la BBC ont été attaqué pour avoir fait preuve de partialité en relayant l’ « aspect humain » des manifestants plutôt que les aspects plus obscurs de l’ insurrection .\n",
       "9375                                                                                                                                                                                                   Si on revient à la mappemonde de nuit , on trouve un indice de ce qui a conduit à ce changement drastique des règles en Chine . ™ Le point le plus brillant en Chine , Que l' on peut voir juste à côté de la ligne , là , c' est Hong Kong .\n",
       "9439                                                                                                                                                                                                                                                       Aux Pays - bas , on pense toujours à une ligne Amsterdam - Lelystad - Groningue , bien qu' il n' y ait aujourd' hui plus aucune chance qu' elle passe via Brême et Hambourg vers Berlin .\n",
       "10512                                                                                                                                                                                            Dans toute l' Union européenne , des personnes ont des difficultés à payer leurs factures d' énergie et c' est pourquoi nous pensons que la question de la' pauvreté énergétique' devrait occuper une place importante dans l' agenda de l' Union .\n",
       "10786                                                                                                                                                                                                                                                                                                                                                             García Márquez a dit que la sagesse arrive lorsqu' elle ne nous sert plus à rien .\n",
       "dtype: object"
      ]
     },
     "execution_count": 177,
     "metadata": {},
     "output_type": "execute_result"
    }
   ],
   "source": [
    "pd.Series([\" \".join(s).replace(\" ’\", \"’\").replace(\" ' \", \"' \").replace(\" '\", \"'\") for s in train_lang2_fr_tokenized])[~mask]\n"
   ]
  },
  {
   "cell_type": "markdown",
   "metadata": {},
   "source": [
    "Tokenizer logic keep the structure (except for quote but not a lot of occurence)\n",
    "\n",
    "Actually, it fixes some incoherences in the bilingual dataset (\"l'\" and \"l '\")"
   ]
  },
  {
   "cell_type": "markdown",
   "metadata": {},
   "source": [
    "## Tokenize French corpora"
   ]
  },
  {
   "cell_type": "code",
   "execution_count": 178,
   "metadata": {},
   "outputs": [
    {
     "data": {
      "text/html": [
       "\n",
       "    <div>\n",
       "        <style>\n",
       "            /* Turns off some styling */\n",
       "            progress {\n",
       "                /* gets rid of default border in Firefox and Opera. */\n",
       "                border: none;\n",
       "                /* Needs to be in here for Safari polyfill so background images work as expected. */\n",
       "                background-size: auto;\n",
       "            }\n",
       "            .progress-bar-interrupted, .progress-bar-interrupted::-webkit-progress-bar {\n",
       "                background: #F44336;\n",
       "            }\n",
       "        </style>\n",
       "      <progress value='474000' class='' max='474000', style='width:300px; height:20px; vertical-align: middle;'></progress>\n",
       "      100.00% [474000/474000 28:02<00:00]\n",
       "    </div>\n",
       "    "
      ],
      "text/plain": [
       "<IPython.core.display.HTML object>"
      ]
     },
     "metadata": {},
     "output_type": "display_data"
    },
    {
     "data": {
      "text/html": [
       "\n",
       "    <div>\n",
       "        <style>\n",
       "            /* Turns off some styling */\n",
       "            progress {\n",
       "                /* gets rid of default border in Firefox and Opera. */\n",
       "                border: none;\n",
       "                /* Needs to be in here for Safari polyfill so background images work as expected. */\n",
       "                background-size: auto;\n",
       "            }\n",
       "            .progress-bar-interrupted, .progress-bar-interrupted::-webkit-progress-bar {\n",
       "                background: #F44336;\n",
       "            }\n",
       "        </style>\n",
       "      <progress value='11000' class='' max='11000', style='width:300px; height:20px; vertical-align: middle;'></progress>\n",
       "      100.00% [11000/11000 00:36<00:00]\n",
       "    </div>\n",
       "    "
      ],
      "text/plain": [
       "<IPython.core.display.HTML object>"
      ]
     },
     "metadata": {},
     "output_type": "display_data"
    }
   ],
   "source": [
    "unaligned_fr_tokenized = list(my_tokenize(unaligned_fr, tokenizer=tokenizer_fr, \n",
    "                               keep_case=True, keep_punctuation=True))\n",
    "# Required also to extend the vocab\n",
    "train_lang2_fr_tokenized = list(my_tokenize(train_lang2_fr, tokenizer=tokenizer_fr, \n",
    "                                   keep_case=True, keep_punctuation=True, split_sentence=True))"
   ]
  },
  {
   "cell_type": "code",
   "execution_count": 180,
   "metadata": {},
   "outputs": [
    {
     "data": {
      "text/plain": [
       "['Il',\n",
       " 'faudra',\n",
       " 'juste',\n",
       " 'voir',\n",
       " 'de',\n",
       " 'quelle',\n",
       " 'manière',\n",
       " 'on',\n",
       " 'peut',\n",
       " \"s'\",\n",
       " 'assurer',\n",
       " \"qu'\",\n",
       " 'on',\n",
       " 'a',\n",
       " 'une',\n",
       " 'valeur',\n",
       " 'ajoutée',\n",
       " 'de',\n",
       " \"l'\",\n",
       " 'utilisation',\n",
       " 'du',\n",
       " 'budget',\n",
       " 'européen',\n",
       " 'pour',\n",
       " 'ce',\n",
       " 'type',\n",
       " 'de',\n",
       " 'programme',\n",
       " 'tout',\n",
       " 'en',\n",
       " 'laissant',\n",
       " 'la',\n",
       " 'flexibilité',\n",
       " 'aux',\n",
       " 'États',\n",
       " 'membres',\n",
       " 'pour',\n",
       " 'une',\n",
       " 'bonne',\n",
       " 'utilisation',\n",
       " '.']"
      ]
     },
     "execution_count": 180,
     "metadata": {},
     "output_type": "execute_result"
    }
   ],
   "source": [
    "np.random.choice(unaligned_fr_tokenized)"
   ]
  },
  {
   "cell_type": "markdown",
   "metadata": {},
   "source": [
    "## Compare vocab in both English corpura"
   ]
  },
  {
   "cell_type": "code",
   "execution_count": 181,
   "metadata": {},
   "outputs": [],
   "source": [
    "word_to_token_fr_monolingual = create_vocab(unaligned_fr_tokenized)\n",
    "\n",
    "word_to_token_fr_bilangual = create_vocab(train_lang2_fr_tokenized)"
   ]
  },
  {
   "cell_type": "code",
   "execution_count": 182,
   "metadata": {},
   "outputs": [
    {
     "name": "stdout",
     "output_type": "stream",
     "text": [
      "Unique tokens from bilangual corpus 0.041714756801319045\n"
     ]
    }
   ],
   "source": [
    "present_in_bilangual_not_monolingual = { k : word_to_token_fr_bilangual[k] \n",
    "                                        for k in \n",
    "                                        set(word_to_token_fr_bilangual) - \n",
    "                                        set(word_to_token_fr_monolingual) }\n",
    "print(\"Unique tokens from bilangual corpus\", len(present_in_bilangual_not_monolingual) / len(word_to_token_fr_bilangual))"
   ]
  },
  {
   "cell_type": "code",
   "execution_count": 183,
   "metadata": {},
   "outputs": [
    {
     "name": "stdout",
     "output_type": "stream",
     "text": [
      "Unique tokens from monolingual corpus 0.8073583029499503\n"
     ]
    }
   ],
   "source": [
    "present_in_monolingual_not_bilangual = { k : word_to_token_fr_monolingual[k] \n",
    "                                        for k in \n",
    "                                        set(word_to_token_fr_monolingual) - \n",
    "                                        set(word_to_token_fr_bilangual) }\n",
    "print(\"Unique tokens from monolingual corpus\", len(present_in_monolingual_not_bilangual) / len(word_to_token_fr_monolingual))"
   ]
  },
  {
   "cell_type": "markdown",
   "metadata": {},
   "source": [
    "Safety check OK: 4% only present in bilingual not in monlingual (80% for the reverse)"
   ]
  },
  {
   "cell_type": "markdown",
   "metadata": {},
   "source": [
    "## Some statistics at token level"
   ]
  },
  {
   "cell_type": "code",
   "execution_count": 184,
   "metadata": {},
   "outputs": [
    {
     "data": {
      "text/plain": [
       "count    496141.000000\n",
       "mean         21.697247\n",
       "std          11.482779\n",
       "min           1.000000\n",
       "25%          12.000000\n",
       "50%          20.000000\n",
       "75%          30.000000\n",
       "90%          38.000000\n",
       "99%          48.000000\n",
       "max         214.000000\n",
       "dtype: float64"
      ]
     },
     "execution_count": 184,
     "metadata": {},
     "output_type": "execute_result"
    }
   ],
   "source": [
    "monolingual_stats = pd.Series([len(s) for s in unaligned_fr_tokenized])\n",
    "monolingual_stats.describe(percentiles=[.25, .5, .75, .9, .99])"
   ]
  },
  {
   "cell_type": "code",
   "execution_count": 185,
   "metadata": {},
   "outputs": [
    {
     "data": {
      "text/plain": [
       "Text(0.5, 1.0, 'Histogram of length of sequences at token level (word) for monolingual')"
      ]
     },
     "execution_count": 185,
     "metadata": {},
     "output_type": "execute_result"
    },
    {
     "data": {
      "image/png": "[encoded data removed]",
      "text/plain": [
       "<Figure size 432x288 with 1 Axes>"
      ]
     },
     "metadata": {
      "needs_background": "light"
     },
     "output_type": "display_data"
    }
   ],
   "source": [
    "ax = monolingual_stats.hist(bins=100)\n",
    "ax.set_title(\"Histogram of length of sequences at token level (word) for monolingual\")"
   ]
  },
  {
   "cell_type": "code",
   "execution_count": 186,
   "metadata": {},
   "outputs": [
    {
     "data": {
      "text/plain": [
       "count    11000.000000\n",
       "mean        24.060455\n",
       "std         12.468354\n",
       "min          2.000000\n",
       "25%         14.000000\n",
       "50%         23.000000\n",
       "75%         33.000000\n",
       "90%         41.000000\n",
       "99%         52.000000\n",
       "max        121.000000\n",
       "dtype: float64"
      ]
     },
     "execution_count": 186,
     "metadata": {},
     "output_type": "execute_result"
    }
   ],
   "source": [
    "bilingual_stats = pd.Series([len(s) for s in train_lang2_fr_tokenized])\n",
    "bilingual_stats.describe(percentiles=[.25, .5, .75, .9, .99])"
   ]
  },
  {
   "cell_type": "code",
   "execution_count": 86,
   "metadata": {},
   "outputs": [
    {
     "data": {
      "text/plain": [
       "Text(0.5, 1.0, 'Histogram of length of sequences at token level (word) for bilingual')"
      ]
     },
     "execution_count": 86,
     "metadata": {},
     "output_type": "execute_result"
    },
    {
     "data": {
      "image/png": "[encoded data removed]",
      "text/plain": [
       "<Figure size 432x288 with 1 Axes>"
      ]
     },
     "metadata": {
      "needs_background": "light"
     },
     "output_type": "display_data"
    }
   ],
   "source": [
    "ax = bilingual_stats.hist(bins=100)\n",
    "ax.set_title(\"Histogram of length of sequences at token level (word) for bilingual\")\n"
   ]
  },
  {
   "cell_type": "markdown",
   "metadata": {},
   "source": [
    "Safety check OK: the distribution of sequences seems similar between both dataset. A bit shorter for the monolingual.\n",
    "\n",
    "The actual number of sentences in 496k in the monolingual (not 470k)"
   ]
  },
  {
   "cell_type": "markdown",
   "metadata": {},
   "source": [
    "## Numericalize French corpora"
   ]
  },
  {
   "cell_type": "code",
   "execution_count": 187,
   "metadata": {},
   "outputs": [],
   "source": [
    "word_to_token_fr = create_vocab(unaligned_fr_tokenized)\n",
    "word_to_token_fr = create_vocab(train_lang2_fr_tokenized, word_to_token_fr)"
   ]
  },
  {
   "cell_type": "code",
   "execution_count": 188,
   "metadata": {},
   "outputs": [],
   "source": [
    "token_to_word_fr = {v:k  for k,v in word_to_token_fr.items()}"
   ]
  },
  {
   "cell_type": "code",
   "execution_count": 189,
   "metadata": {},
   "outputs": [
    {
     "name": "stdout",
     "output_type": "stream",
     "text": [
      "appelèrent 52797\n",
      "priés 25159\n",
      "Galicien 36707\n",
      "strates 52837\n",
      "échouerez 90677\n",
      "corrida 53044\n",
      "fret 10106\n",
      "posant 6877\n",
      "employé 5595\n",
      "anti-conformiste 65549\n"
     ]
    }
   ],
   "source": [
    "for key in np.random.choice(list(word_to_token_fr.keys()), size=10):\n",
    "    print(key, word_to_token_fr[key])"
   ]
  },
  {
   "cell_type": "code",
   "execution_count": 190,
   "metadata": {},
   "outputs": [],
   "source": [
    "with open('word_to_token_fr.pickle', 'wb') as handle:\n",
    "    pickle.dump(word_to_token_fr, handle, protocol=pickle.HIGHEST_PROTOCOL)\n",
    "    \n",
    "with open('token_to_word_fr.pickle', 'wb') as handle:\n",
    "    pickle.dump(token_to_word_fr, handle, protocol=pickle.HIGHEST_PROTOCOL)\n"
   ]
  },
  {
   "cell_type": "code",
   "execution_count": 191,
   "metadata": {},
   "outputs": [],
   "source": [
    "unaligned_fr_numericalized = [[word_to_token_fr[w]  for w in s] for s in unaligned_fr_tokenized]"
   ]
  },
  {
   "cell_type": "code",
   "execution_count": 192,
   "metadata": {},
   "outputs": [
    {
     "data": {
      "text/plain": [
       "\"Je crois que les outils qui ont fonctionné dans ces 42 cas pilotes peuvent être consolidés dans des processus standard dans un environnement professionnel , et accessible sur le web , via des centres d' appels ou dans des bureaux franchisés , à coût fixe , afin de servir quiconque serait confronté à une demande de pots de vin .\""
      ]
     },
     "execution_count": 192,
     "metadata": {},
     "output_type": "execute_result"
    }
   ],
   "source": [
    "\" \".join([token_to_word_fr[t] for t in np.random.choice(unaligned_fr_numericalized)])"
   ]
  },
  {
   "cell_type": "code",
   "execution_count": 194,
   "metadata": {},
   "outputs": [
    {
     "data": {
      "text/plain": [
       "(496141, 496141)"
      ]
     },
     "execution_count": 194,
     "metadata": {},
     "output_type": "execute_result"
    }
   ],
   "source": [
    "len(unaligned_fr_tokenized), len(unaligned_fr_numericalized)"
   ]
  },
  {
   "cell_type": "code",
   "execution_count": 195,
   "metadata": {},
   "outputs": [],
   "source": [
    "train_lang2_fr_numericalized = [[word_to_token_fr[w]  for w in s] for s in train_lang2_fr_tokenized]"
   ]
  },
  {
   "cell_type": "code",
   "execution_count": 196,
   "metadata": {},
   "outputs": [
    {
     "data": {
      "text/plain": [
       "'La même idée peut maintenant être développée .'"
      ]
     },
     "execution_count": 196,
     "metadata": {},
     "output_type": "execute_result"
    }
   ],
   "source": [
    "\" \".join([token_to_word_fr[t] for t in np.random.choice(train_lang2_fr_numericalized)])"
   ]
  },
  {
   "cell_type": "code",
   "execution_count": 197,
   "metadata": {},
   "outputs": [
    {
     "data": {
      "text/plain": [
       "(11000, 11000)"
      ]
     },
     "execution_count": 197,
     "metadata": {},
     "output_type": "execute_result"
    }
   ],
   "source": [
    "len(train_lang2_fr_tokenized), len(train_lang2_fr_numericalized)"
   ]
  },
  {
   "cell_type": "code",
   "execution_count": 198,
   "metadata": {},
   "outputs": [],
   "source": [
    "with open('train_lang2_fr_numericalized.pickle', 'wb') as handle:\n",
    "    pickle.dump(train_lang2_fr_numericalized, handle, protocol=pickle.HIGHEST_PROTOCOL)\n",
    "    \n",
    "with open('unaligned_fr_numericalized.pickle', 'wb') as handle:\n",
    "    pickle.dump(unaligned_fr_numericalized, handle, protocol=pickle.HIGHEST_PROTOCOL)\n"
   ]
  },
  {
   "cell_type": "markdown",
   "metadata": {},
   "source": [
    "# Conclusion \n",
    "\n",
    "English monolingual\n",
    "- Using sentencizer increases from 470k to 492k sentences\n",
    "- Must be adapted to look like English bilangual (remove case and punctuation)\n",
    "- Lot of new tokens\n",
    "- Stats at token level similar to bilingual\n",
    "- Can be in memory\n",
    "\n",
    "English bilingual\n",
    "- No punctuation and no case\n",
    "- Max sequences at character level: 512 (possibility of character level production)\n",
    "- Can be in memory\n",
    "\n",
    "French monolingual\n",
    "- Using sentencizer increases from 470k to 496k sentences\n",
    "- French monolingual don't need special preprocessing\n",
    "- Lot of new tokens\n",
    "- Can be in memory\n",
    "\n",
    "\n",
    "French bilingual\n",
    "- Punctuation and Case\n",
    "- Some inconsistences (\"l'\" and \"l '\") but can be fixed with tokenizer\n",
    "- Max sequences at character level: 562 (possibility of character level production)\n",
    "- Can be in memory\n",
    "\n",
    "\n",
    "Spacy tokenizer\n",
    "- Keep the structure between monolingual and bilingual\n",
    "- Quite fast (30min for 1 monolingual, <1min for 1 bilingual)\n",
    "\n",
    "\n",
    "Outputs\n",
    "- 2 files for English corpora, and 1 file for their vocab (1 extra file for the reverse dictionary)\n",
    "- 2 files for French corpora, and 1 file for their vocab (1 extra file for the reverse dictionary)\n",
    "\n",
    "Possible improvements\n",
    "- Generate character level dataset\n",
    "- Use BPE dataset\n",
    "- Parallelize the tokenizer (currently single thread)"
   ]
  },
  {
   "cell_type": "code",
   "execution_count": null,
   "metadata": {},
   "outputs": [],
   "source": []
  }
 ],
 "metadata": {
  "kernelspec": {
   "display_name": "py37_tf",
   "language": "python",
   "name": "py37_tf"
  },
  "language_info": {
   "codemirror_mode": {
    "name": "ipython",
    "version": 3
   },
   "file_extension": ".py",
   "mimetype": "text/x-python",
   "name": "python",
   "nbconvert_exporter": "python",
   "pygments_lexer": "ipython3",
   "version": "3.7.4"
  }
 },
 "nbformat": 4,
 "nbformat_minor": 4
}
