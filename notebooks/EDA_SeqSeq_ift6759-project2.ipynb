{
 "cells": [
  {
   "cell_type": "code",
   "execution_count": 1,
   "metadata": {},
   "outputs": [
    {
     "name": "stdout",
     "output_type": "stream",
     "text": [
      "Ignoring pip: markers 'python_version < \"3\"' don't match your environment\n",
      "Looking in links: /cvmfs/soft.computecanada.ca/custom/python/wheelhouse/avx, /cvmfs/soft.computecanada.ca/custom/python/wheelhouse/generic\n",
      "Requirement already satisfied: scikit-learn in /localscratch/guest122.329981.0/lib/python3.7/site-packages (0.22.1)\n",
      "Requirement already satisfied: matplotlib in /localscratch/guest122.329981.0/lib/python3.7/site-packages (3.1.1)\n",
      "Requirement already satisfied: tensorflow_gpu in /localscratch/guest122.329981.0/lib/python3.7/site-packages (2.1.0)\n",
      "Requirement already satisfied: pandas in /localscratch/guest122.329981.0/lib/python3.7/site-packages (0.25.3)\n",
      "Requirement already satisfied: numpy in /localscratch/guest122.329981.0/lib/python3.7/site-packages (1.18.2)\n",
      "Requirement already satisfied: spacy in /localscratch/guest122.329981.0/lib/python3.7/site-packages (2.2.2)\n",
      "Requirement already satisfied: joblib>=0.11 in /localscratch/guest122.329981.0/lib/python3.7/site-packages (from scikit-learn) (0.14.1)\n",
      "Requirement already satisfied: scipy>=0.17.0 in /localscratch/guest122.329981.0/lib/python3.7/site-packages (from scikit-learn) (1.4.1)\n",
      "Requirement already satisfied: pyparsing!=2.0.4,!=2.1.2,!=2.1.6,>=2.0.1 in /localscratch/guest122.329981.0/lib/python3.7/site-packages (from matplotlib) (2.4.6)\n",
      "Requirement already satisfied: kiwisolver>=1.0.1 in /localscratch/guest122.329981.0/lib/python3.7/site-packages (from matplotlib) (1.1.0)\n",
      "Requirement already satisfied: cycler>=0.10 in /localscratch/guest122.329981.0/lib/python3.7/site-packages (from matplotlib) (0.10.0)\n",
      "Requirement already satisfied: python-dateutil>=2.1 in /opt/ipython-kernel/lib/python3.7/site-packages (from matplotlib) (2.8.1)\n",
      "Requirement already satisfied: wheel>=0.26; python_version >= \"3\" in /localscratch/guest122.329981.0/lib/python3.7/site-packages (from tensorflow_gpu) (0.33.4)\n",
      "Requirement already satisfied: absl-py>=0.7.0 in /localscratch/guest122.329981.0/lib/python3.7/site-packages (from tensorflow_gpu) (0.7.1)\n",
      "Requirement already satisfied: tensorflow-estimator<2.2.0,>=2.1.0rc0 in /localscratch/guest122.329981.0/lib/python3.7/site-packages (from tensorflow_gpu) (2.1.0)\n",
      "Requirement already satisfied: wrapt>=1.11.1 in /localscratch/guest122.329981.0/lib/python3.7/site-packages (from tensorflow_gpu) (1.11.2)\n",
      "Requirement already satisfied: gast==0.2.2 in /localscratch/guest122.329981.0/lib/python3.7/site-packages (from tensorflow_gpu) (0.2.2)\n",
      "Requirement already satisfied: google-pasta>=0.1.6 in /localscratch/guest122.329981.0/lib/python3.7/site-packages (from tensorflow_gpu) (0.1.8)\n",
      "Requirement already satisfied: opt-einsum>=2.3.2 in /localscratch/guest122.329981.0/lib/python3.7/site-packages (from tensorflow_gpu) (2.3.2)\n",
      "Requirement already satisfied: grpcio>=1.8.6 in /localscratch/guest122.329981.0/lib/python3.7/site-packages (from tensorflow_gpu) (1.25.0)\n",
      "Requirement already satisfied: six>=1.12.0 in /opt/ipython-kernel/lib/python3.7/site-packages (from tensorflow_gpu) (1.14.0)\n",
      "Requirement already satisfied: keras-preprocessing>=1.1.0 in /localscratch/guest122.329981.0/lib/python3.7/site-packages (from tensorflow_gpu) (1.1.0)\n",
      "Requirement already satisfied: tensorboard<2.2.0,>=2.1.0 in /localscratch/guest122.329981.0/lib/python3.7/site-packages (from tensorflow_gpu) (2.1.0)\n",
      "Requirement already satisfied: astor>=0.6.0 in /localscratch/guest122.329981.0/lib/python3.7/site-packages (from tensorflow_gpu) (0.8.1)\n",
      "Requirement already satisfied: termcolor>=1.1.0 in /localscratch/guest122.329981.0/lib/python3.7/site-packages (from tensorflow_gpu) (1.1.0)\n",
      "Requirement already satisfied: protobuf>=3.8.0 in /localscratch/guest122.329981.0/lib/python3.7/site-packages (from tensorflow_gpu) (3.11.3)\n",
      "Requirement already satisfied: keras-applications>=1.0.8 in /localscratch/guest122.329981.0/lib/python3.7/site-packages (from tensorflow_gpu) (1.0.8)\n",
      "Requirement already satisfied: pytz>=2017.2 in /localscratch/guest122.329981.0/lib/python3.7/site-packages (from pandas) (2019.3)\n",
      "Requirement already satisfied: thinc<7.4.0,>=7.3.0 in /localscratch/guest122.329981.0/lib/python3.7/site-packages (from spacy) (7.3.1)\n",
      "Requirement already satisfied: srsly<1.1.0,>=0.1.0 in /localscratch/guest122.329981.0/lib/python3.7/site-packages (from spacy) (0.2.0)\n",
      "Requirement already satisfied: requests<3.0.0,>=2.13.0 in /localscratch/guest122.329981.0/lib/python3.7/site-packages (from spacy) (2.23.0)\n",
      "Requirement already satisfied: setuptools in /opt/ipython-kernel/lib/python3.7/site-packages (from spacy) (40.8.0)\n",
      "Requirement already satisfied: cymem<2.1.0,>=2.0.2 in /localscratch/guest122.329981.0/lib/python3.7/site-packages (from spacy) (2.0.2)\n",
      "Requirement already satisfied: wasabi<1.1.0,>=0.3.0 in /localscratch/guest122.329981.0/lib/python3.7/site-packages (from spacy) (0.4.2)\n",
      "Requirement already satisfied: importlib-metadata>=0.20; python_version < \"3.8\" in /localscratch/guest122.329981.0/lib/python3.7/site-packages (from spacy) (1.5.0)\n",
      "Requirement already satisfied: blis<0.5.0,>=0.4.0 in /localscratch/guest122.329981.0/lib/python3.7/site-packages (from spacy) (0.4.1)\n",
      "Requirement already satisfied: preshed<3.1.0,>=3.0.2 in /localscratch/guest122.329981.0/lib/python3.7/site-packages (from spacy) (3.0.2)\n",
      "Requirement already satisfied: murmurhash<1.1.0,>=0.28.0 in /localscratch/guest122.329981.0/lib/python3.7/site-packages (from spacy) (1.0.2)\n",
      "Requirement already satisfied: plac<1.2.0,>=0.9.6 in /localscratch/guest122.329981.0/lib/python3.7/site-packages (from spacy) (1.1.3)\n",
      "Requirement already satisfied: markdown>=2.6.8 in /localscratch/guest122.329981.0/lib/python3.7/site-packages (from tensorboard<2.2.0,>=2.1.0->tensorflow_gpu) (3.2)\n",
      "Requirement already satisfied: werkzeug>=0.11.15 in /localscratch/guest122.329981.0/lib/python3.7/site-packages (from tensorboard<2.2.0,>=2.1.0->tensorflow_gpu) (0.16.1)\n",
      "Requirement already satisfied: google-auth-oauthlib<0.5,>=0.4.1 in /localscratch/guest122.329981.0/lib/python3.7/site-packages (from tensorboard<2.2.0,>=2.1.0->tensorflow_gpu) (0.4.1)\n",
      "Requirement already satisfied: google-auth<2,>=1.6.3 in /localscratch/guest122.329981.0/lib/python3.7/site-packages (from tensorboard<2.2.0,>=2.1.0->tensorflow_gpu) (1.11.0)\n",
      "Requirement already satisfied: h5py in /localscratch/guest122.329981.0/lib/python3.7/site-packages (from keras-applications>=1.0.8->tensorflow_gpu) (2.9.0)\n",
      "Requirement already satisfied: tqdm<5.0.0,>=4.10.0 in /localscratch/guest122.329981.0/lib/python3.7/site-packages (from thinc<7.4.0,>=7.3.0->spacy) (4.40.2)\n",
      "Requirement already satisfied: certifi>=2017.4.17 in /localscratch/guest122.329981.0/lib/python3.7/site-packages (from requests<3.0.0,>=2.13.0->spacy) (2019.11.28)\n",
      "Requirement already satisfied: chardet<4,>=3.0.2 in /localscratch/guest122.329981.0/lib/python3.7/site-packages (from requests<3.0.0,>=2.13.0->spacy) (3.0.4)\n",
      "Requirement already satisfied: urllib3!=1.25.0,!=1.25.1,<1.26,>=1.21.1 in /localscratch/guest122.329981.0/lib/python3.7/site-packages (from requests<3.0.0,>=2.13.0->spacy) (1.25.8)\n",
      "Requirement already satisfied: idna<3,>=2.5 in /localscratch/guest122.329981.0/lib/python3.7/site-packages (from requests<3.0.0,>=2.13.0->spacy) (2.9)\n",
      "Requirement already satisfied: zipp>=0.5 in /localscratch/guest122.329981.0/lib/python3.7/site-packages (from importlib-metadata>=0.20; python_version < \"3.8\"->spacy) (3.1.0)\n",
      "Requirement already satisfied: requests-oauthlib>=0.7.0 in /localscratch/guest122.329981.0/lib/python3.7/site-packages (from google-auth-oauthlib<0.5,>=0.4.1->tensorboard<2.2.0,>=2.1.0->tensorflow_gpu) (1.3.0)\n",
      "Requirement already satisfied: rsa<4.1,>=3.1.4 in /localscratch/guest122.329981.0/lib/python3.7/site-packages (from google-auth<2,>=1.6.3->tensorboard<2.2.0,>=2.1.0->tensorflow_gpu) (4.0)\n",
      "Requirement already satisfied: pyasn1-modules>=0.2.1 in /localscratch/guest122.329981.0/lib/python3.7/site-packages (from google-auth<2,>=1.6.3->tensorboard<2.2.0,>=2.1.0->tensorflow_gpu) (0.2.8)\n",
      "Requirement already satisfied: cachetools<5.0,>=2.0.0 in /localscratch/guest122.329981.0/lib/python3.7/site-packages (from google-auth<2,>=1.6.3->tensorboard<2.2.0,>=2.1.0->tensorflow_gpu) (3.1.1)\n",
      "Requirement already satisfied: oauthlib>=3.0.0 in /localscratch/guest122.329981.0/lib/python3.7/site-packages (from requests-oauthlib>=0.7.0->google-auth-oauthlib<0.5,>=0.4.1->tensorboard<2.2.0,>=2.1.0->tensorflow_gpu) (3.1.0)\n",
      "Requirement already satisfied: pyasn1>=0.1.3 in /localscratch/guest122.329981.0/lib/python3.7/site-packages (from rsa<4.1,>=3.1.4->google-auth<2,>=1.6.3->tensorboard<2.2.0,>=2.1.0->tensorflow_gpu) (0.4.8)\n",
      "Note: you may need to restart the kernel to use updated packages.\n"
     ]
    }
   ],
   "source": [
    "pip install --no-index scikit-learn matplotlib tensorflow_gpu pandas numpy spacy"
   ]
  },
  {
   "cell_type": "code",
   "execution_count": 2,
   "metadata": {},
   "outputs": [],
   "source": [
    "from pathlib import Path\n",
    "import pandas as pd\n",
    "import numpy as np\n",
    "import json\n",
    "import pickle\n",
    "from functools import partial\n",
    "import tensorflow as tf\n",
    "import spacy\n",
    "\n",
    "import matplotlib.pyplot as plt\n",
    "import matplotlib.ticker as ticker\n",
    "from sklearn.model_selection import train_test_split\n",
    "\n",
    "import unicodedata\n",
    "import re\n",
    "import os\n",
    "import io\n",
    "import time"
   ]
  },
  {
   "cell_type": "code",
   "execution_count": 3,
   "metadata": {},
   "outputs": [],
   "source": [
    "from __future__ import absolute_import, division, print_function, unicode_literals"
   ]
  },
  {
   "cell_type": "code",
   "execution_count": 4,
   "metadata": {},
   "outputs": [],
   "source": [
    "import sys\n",
    "sys.path.append(\"..\") # Require to have the utilities packages in path"
   ]
  },
  {
   "cell_type": "code",
   "execution_count": 5,
   "metadata": {},
   "outputs": [
    {
     "data": {
      "text/plain": [
       "[PosixPath('/project/cq-training-1/project2/data/unaligned.en'),\n",
       " PosixPath('/project/cq-training-1/project2/data/unaligned.fr'),\n",
       " PosixPath('/project/cq-training-1/project2/data/train.lang2'),\n",
       " PosixPath('/project/cq-training-1/project2/data/train.lang1')]"
      ]
     },
     "execution_count": 5,
     "metadata": {},
     "output_type": "execute_result"
    }
   ],
   "source": [
    "data_path = Path(r\"/project/cq-training-1/project2/data/\")\n",
    "files = list(data_path.glob(\"*\"))\n",
    "files"
   ]
  },
  {
   "cell_type": "code",
   "execution_count": 6,
   "metadata": {},
   "outputs": [],
   "source": [
    "with open(data_path / \"unaligned.en\", 'r') as f:\n",
    "    unaligned_en = [line.rstrip() for line in f] # Remove the \\n\n",
    "    unaligned_en = pd.DataFrame(unaligned_en, columns=[\"text\"])\n",
    "    f.close()\n",
    "    \n",
    "with open(data_path / \"unaligned.fr\", 'r') as f:\n",
    "    unaligned_fr = [line.rstrip() for line in f] # Remove the \\n\n",
    "    unaligned_fr = pd.DataFrame(unaligned_fr, columns=[\"text\"])\n",
    "    f.close()\n",
    "\n",
    "with open(data_path / \"train.lang1\", 'r') as f:\n",
    "    train_lang1_en = [line.rstrip() for line in f] # Remove the \\n\n",
    "    train_lang1_en = pd.DataFrame(train_lang1_en, columns=[\"text\"])\n",
    "    f.close()\n",
    "\n",
    "with open(data_path / \"train.lang2\", 'r') as f:\n",
    "    train_lang2_fr = [line.rstrip() for line in f] # Remove the \\n\n",
    "    train_lang2_fr = pd.DataFrame(train_lang2_fr, columns=[\"text\"])\n",
    "    f.close()"
   ]
  },
  {
   "cell_type": "code",
   "execution_count": 7,
   "metadata": {},
   "outputs": [
    {
     "name": "stdout",
     "output_type": "stream",
     "text": [
      "68 entries have more than 1 sentence \n",
      "\n",
      "One entry has at least 5 sentences:\n",
      "\" Nous allons devoir réapprendre ce que signifie la construction de toutes ces choses . La rue . Le pâté de maisons . Comment composer un espace public qui soit à la fois grand et petit ? La cour . La place publique . Et comment mettre en valeur cet immobilier . \"\n"
     ]
    }
   ],
   "source": [
    "max = 0\n",
    "countEntry = 0\n",
    "for index, row in train_lang2_fr.iterrows():\n",
    "    count = row[\"text\"].count('. ')\n",
    "    \n",
    "    if count > 1:\n",
    "        countEntry += 1\n",
    "    if count > max:\n",
    "        max = count\n",
    "        sentence = row[\"text\"]\n",
    "\n",
    "print(countEntry, \"entries have more than 1 sentence\", '\\n')\n",
    "print('One entry has at least', max, 'sentences:')\n",
    "print('\"', sentence, '\"')"
   ]
  },
  {
   "cell_type": "code",
   "execution_count": 8,
   "metadata": {},
   "outputs": [],
   "source": [
    "# Based on: https://www.tensorflow.org/tutorials/text/nmt_with_attention\n",
    "# Converts the unicode file to ascii\n",
    "def unicode_to_ascii(s):\n",
    "    return ''.join(c for c in unicodedata.normalize('NFD', s)\n",
    "        if unicodedata.category(c) != 'Mn')\n",
    "\n",
    "\n",
    "def preprocess_sentence(w):\n",
    "    w = unicode_to_ascii(w.lower().strip())\n",
    "\n",
    "    # creating a space between a word and the punctuation following it\n",
    "    # eg: \"he is a boy.\" => \"he is a boy .\"\n",
    "    # Reference:- https://stackoverflow.com/questions/3645931/python-padding-punctuation-with-white-spaces-keeping-punctuation\n",
    "    w = re.sub(r\"([?.!,¿])\", r\" \\1 \", w)\n",
    "    w = re.sub(r'[\" \"]+', \" \", w)\n",
    "\n",
    "    # replacing everything with space except (a-z, A-Z, \".\", \"?\", \"!\", \",\")\n",
    "    w = re.sub(r\"[^a-zA-Z?.!,¿]+\", \" \", w)\n",
    "\n",
    "    w = w.rstrip().strip()\n",
    "\n",
    "    # adding a start and an end token to the sentence\n",
    "    # so that the model know when to start and stop predicting.\n",
    "    w = '<start> ' + w + ' <end>'\n",
    "    return w\n",
    "\n"
   ]
  },
  {
   "cell_type": "code",
   "execution_count": 9,
   "metadata": {},
   "outputs": [],
   "source": [
    "def create_dataset():\n",
    "    frText = []\n",
    "    enText = []\n",
    "    for ((indexFr, rowFr), (indexEn, rowEn))  in zip(train_lang2_fr.iterrows(), train_lang1_en.iterrows()):\n",
    "        frText.append(preprocess_sentence(rowFr['text']))\n",
    "        enText.append(preprocess_sentence(rowEn['text']))\n",
    "\n",
    "    return frText, enText\n",
    "  #lines = io.open(path, encoding='UTF-8').read().strip().split('\\n')\n",
    "\n",
    "  #word_pairs = [[preprocess_sentence(w) for w in l.split('\\t')]  for l in lines[:num_examples]]\n",
    "\n",
    "  #return zip(*word_pairs)\n",
    "\n",
    "def max_length(tensor):\n",
    "    return max(len(t) for t in tensor)\n",
    "\n",
    "def tokenize(lang):\n",
    "    lang_tokenizer = tf.keras.preprocessing.text.Tokenizer(\n",
    "      filters='')\n",
    "    lang_tokenizer.fit_on_texts(lang)\n",
    "\n",
    "    tensor = lang_tokenizer.texts_to_sequences(lang)\n",
    "\n",
    "    tensor = tf.keras.preprocessing.sequence.pad_sequences(tensor,\n",
    "                                                         padding='post')\n",
    "\n",
    "    return tensor, lang_tokenizer\n",
    "\n",
    "def load_dataset():\n",
    "    # creating cleaned input, output pairs\n",
    "    targ_lang, inp_lang = create_dataset()\n",
    "\n",
    "    input_tensor, inp_lang_tokenizer = tokenize(inp_lang)\n",
    "    target_tensor, targ_lang_tokenizer = tokenize(targ_lang)\n",
    "\n",
    "    return input_tensor, target_tensor, inp_lang_tokenizer, targ_lang_tokenizer"
   ]
  },
  {
   "cell_type": "code",
   "execution_count": 10,
   "metadata": {},
   "outputs": [
    {
     "name": "stdout",
     "output_type": "stream",
     "text": [
      "<start> je conviens que nous avons besoin d un agenda social ambitieux qui englobera la lutte contre la pauvrete et l exclusion sociale . <end>\n",
      "<start> i agree that we need an ambitious social agenda which will include combating poverty and social exclusion <end>\n"
     ]
    }
   ],
   "source": [
    "fr, en = create_dataset()\n",
    "print(fr[-1])\n",
    "print(en[-1])"
   ]
  },
  {
   "cell_type": "code",
   "execution_count": 11,
   "metadata": {},
   "outputs": [],
   "source": [
    "input_tensor, target_tensor, inp_lang, targ_lang = load_dataset()\n",
    "\n",
    "# Calculate max_length of the target tensors\n",
    "#max_length_targ, max_length_inp = max_length(target_tensor), max_length(input_tensor)"
   ]
  },
  {
   "cell_type": "code",
   "execution_count": 12,
   "metadata": {},
   "outputs": [
    {
     "name": "stdout",
     "output_type": "stream",
     "text": [
      "8800 8800 2200 2200\n"
     ]
    }
   ],
   "source": [
    "# Creating training and validation sets using an 80-20 split\n",
    "input_tensor_train, input_tensor_val, target_tensor_train, target_tensor_val = train_test_split(input_tensor, target_tensor, test_size=0.2)\n",
    "\n",
    "# Show length\n",
    "print(len(input_tensor_train), len(target_tensor_train), len(input_tensor_val), len(target_tensor_val))"
   ]
  },
  {
   "cell_type": "code",
   "execution_count": 13,
   "metadata": {},
   "outputs": [],
   "source": [
    "def convert(lang, tensor):\n",
    "  for t in tensor:\n",
    "    if t!=0:\n",
    "      print (\"%d ----> %s\" % (t, lang.index_word[t]))"
   ]
  },
  {
   "cell_type": "code",
   "execution_count": 14,
   "metadata": {},
   "outputs": [
    {
     "name": "stdout",
     "output_type": "stream",
     "text": [
      "Input Language; index to word mapping\n",
      "2 ----> <start>\n",
      "2256 ----> okay\n",
      "12 ----> it\n",
      "21 ----> s\n",
      "19 ----> not\n",
      "1102 ----> obvious\n",
      "5 ----> to\n",
      "17 ----> be\n",
      "3980 ----> honest\n",
      "3 ----> <end>\n",
      "\n",
      "Target Language; index to word mapping\n",
      "2 ----> <start>\n",
      "210 ----> bon\n",
      "5 ----> ,\n",
      "25 ----> ce\n",
      "34 ----> n\n",
      "16 ----> est\n",
      "27 ----> pas\n",
      "915 ----> evident\n",
      "22 ----> pour\n",
      "41 ----> etre\n",
      "14112 ----> honete\n",
      "1 ----> .\n",
      "3 ----> <end>\n"
     ]
    }
   ],
   "source": [
    "print (\"Input Language; index to word mapping\")\n",
    "convert(inp_lang, input_tensor_train[0])\n",
    "print ()\n",
    "print (\"Target Language; index to word mapping\")\n",
    "convert(targ_lang, target_tensor_train[0])"
   ]
  },
  {
   "cell_type": "code",
   "execution_count": 15,
   "metadata": {},
   "outputs": [],
   "source": [
    "BUFFER_SIZE = len(input_tensor_train)\n",
    "BATCH_SIZE = 64\n",
    "steps_per_epoch = len(input_tensor_train)//BATCH_SIZE\n",
    "embedding_dim = 256\n",
    "units = 1024\n",
    "vocab_inp_size = len(inp_lang.word_index)+1\n",
    "vocab_tar_size = len(targ_lang.word_index)+1\n",
    "\n",
    "dataset = tf.data.Dataset.from_tensor_slices((input_tensor_train, target_tensor_train)).shuffle(BUFFER_SIZE)\n",
    "dataset = dataset.batch(BATCH_SIZE, drop_remainder=True)"
   ]
  },
  {
   "cell_type": "code",
   "execution_count": 16,
   "metadata": {},
   "outputs": [
    {
     "data": {
      "text/plain": [
       "(TensorShape([64, 94]), TensorShape([64, 113]))"
      ]
     },
     "execution_count": 16,
     "metadata": {},
     "output_type": "execute_result"
    }
   ],
   "source": [
    "example_input_batch, example_target_batch = next(iter(dataset))\n",
    "example_input_batch.shape, example_target_batch.shape"
   ]
  },
  {
   "cell_type": "code",
   "execution_count": 17,
   "metadata": {},
   "outputs": [],
   "source": [
    "class Encoder(tf.keras.Model):\n",
    "  def __init__(self, vocab_size, embedding_dim, enc_units, batch_sz):\n",
    "    super(Encoder, self).__init__()\n",
    "    self.batch_sz = batch_sz\n",
    "    self.enc_units = enc_units\n",
    "    self.embedding = tf.keras.layers.Embedding(vocab_size, embedding_dim)\n",
    "    self.gru = tf.keras.layers.GRU(self.enc_units,\n",
    "                                   return_sequences=True,\n",
    "                                   return_state=True,\n",
    "                                   recurrent_initializer='glorot_uniform')\n",
    "\n",
    "  def call(self, x, hidden):\n",
    "    x = self.embedding(x)\n",
    "    output, state = self.gru(x, initial_state = hidden)\n",
    "    return output, state\n",
    "\n",
    "  def initialize_hidden_state(self):\n",
    "    return tf.zeros((self.batch_sz, self.enc_units))"
   ]
  },
  {
   "cell_type": "code",
   "execution_count": 18,
   "metadata": {},
   "outputs": [
    {
     "name": "stdout",
     "output_type": "stream",
     "text": [
      "Encoder output shape: (batch size, sequence length, units) (64, 94, 1024)\n",
      "Encoder Hidden state shape: (batch size, units) (64, 1024)\n"
     ]
    }
   ],
   "source": [
    "encoder = Encoder(vocab_inp_size, embedding_dim, units, BATCH_SIZE)\n",
    "\n",
    "# sample input\n",
    "sample_hidden = encoder.initialize_hidden_state()\n",
    "sample_output, sample_hidden = encoder(example_input_batch, sample_hidden)\n",
    "print ('Encoder output shape: (batch size, sequence length, units) {}'.format(sample_output.shape))\n",
    "print ('Encoder Hidden state shape: (batch size, units) {}'.format(sample_hidden.shape))"
   ]
  },
  {
   "cell_type": "code",
   "execution_count": 19,
   "metadata": {},
   "outputs": [],
   "source": [
    "class BahdanauAttention(tf.keras.layers.Layer):\n",
    "  def __init__(self, units):\n",
    "    super(BahdanauAttention, self).__init__()\n",
    "    self.W1 = tf.keras.layers.Dense(units)\n",
    "    self.W2 = tf.keras.layers.Dense(units)\n",
    "    self.V = tf.keras.layers.Dense(1)\n",
    "\n",
    "  def call(self, query, values):\n",
    "    # query hidden state shape == (batch_size, hidden size)\n",
    "    # query_with_time_axis shape == (batch_size, 1, hidden size)\n",
    "    # values shape == (batch_size, max_len, hidden size)\n",
    "    # we are doing this to broadcast addition along the time axis to calculate the score\n",
    "    query_with_time_axis = tf.expand_dims(query, 1)\n",
    "\n",
    "    # score shape == (batch_size, max_length, 1)\n",
    "    # we get 1 at the last axis because we are applying score to self.V\n",
    "    # the shape of the tensor before applying self.V is (batch_size, max_length, units)\n",
    "    score = self.V(tf.nn.tanh(\n",
    "        self.W1(query_with_time_axis) + self.W2(values)))\n",
    "\n",
    "    # attention_weights shape == (batch_size, max_length, 1)\n",
    "    attention_weights = tf.nn.softmax(score, axis=1)\n",
    "\n",
    "    # context_vector shape after sum == (batch_size, hidden_size)\n",
    "    context_vector = attention_weights * values\n",
    "    context_vector = tf.reduce_sum(context_vector, axis=1)\n",
    "\n",
    "    return context_vector, attention_weights"
   ]
  },
  {
   "cell_type": "code",
   "execution_count": 20,
   "metadata": {},
   "outputs": [
    {
     "name": "stdout",
     "output_type": "stream",
     "text": [
      "Attention result shape: (batch size, units) (64, 1024)\n",
      "Attention weights shape: (batch_size, sequence_length, 1) (64, 94, 1)\n"
     ]
    }
   ],
   "source": [
    "attention_layer = BahdanauAttention(10)\n",
    "attention_result, attention_weights = attention_layer(sample_hidden, sample_output)\n",
    "\n",
    "print(\"Attention result shape: (batch size, units) {}\".format(attention_result.shape))\n",
    "print(\"Attention weights shape: (batch_size, sequence_length, 1) {}\".format(attention_weights.shape))"
   ]
  },
  {
   "cell_type": "code",
   "execution_count": 21,
   "metadata": {},
   "outputs": [],
   "source": [
    "class Decoder(tf.keras.Model):\n",
    "  def __init__(self, vocab_size, embedding_dim, dec_units, batch_sz):\n",
    "    super(Decoder, self).__init__()\n",
    "    self.batch_sz = batch_sz\n",
    "    self.dec_units = dec_units\n",
    "    self.embedding = tf.keras.layers.Embedding(vocab_size, embedding_dim)\n",
    "    self.gru = tf.keras.layers.GRU(self.dec_units,\n",
    "                                   return_sequences=True,\n",
    "                                   return_state=True,\n",
    "                                   recurrent_initializer='glorot_uniform')\n",
    "    self.fc = tf.keras.layers.Dense(vocab_size)\n",
    "\n",
    "    # used for attention\n",
    "    self.attention = BahdanauAttention(self.dec_units)\n",
    "\n",
    "  def call(self, x, hidden, enc_output):\n",
    "    # enc_output shape == (batch_size, max_length, hidden_size)\n",
    "    context_vector, attention_weights = self.attention(hidden, enc_output)\n",
    "\n",
    "    # x shape after passing through embedding == (batch_size, 1, embedding_dim)\n",
    "    x = self.embedding(x)\n",
    "\n",
    "    # x shape after concatenation == (batch_size, 1, embedding_dim + hidden_size)\n",
    "    x = tf.concat([tf.expand_dims(context_vector, 1), x], axis=-1)\n",
    "\n",
    "    # passing the concatenated vector to the GRU\n",
    "    output, state = self.gru(x)\n",
    "\n",
    "    # output shape == (batch_size * 1, hidden_size)\n",
    "    output = tf.reshape(output, (-1, output.shape[2]))\n",
    "\n",
    "    # output shape == (batch_size, vocab)\n",
    "    x = self.fc(output)\n",
    "\n",
    "    return x, state, attention_weights"
   ]
  },
  {
   "cell_type": "code",
   "execution_count": 22,
   "metadata": {},
   "outputs": [
    {
     "name": "stdout",
     "output_type": "stream",
     "text": [
      "Decoder output shape: (batch_size, vocab size) (64, 16267)\n"
     ]
    }
   ],
   "source": [
    "decoder = Decoder(vocab_tar_size, embedding_dim, units, BATCH_SIZE)\n",
    "\n",
    "sample_decoder_output, _, _ = decoder(tf.random.uniform((BATCH_SIZE, 1)),\n",
    "                                      sample_hidden, sample_output)\n",
    "\n",
    "print ('Decoder output shape: (batch_size, vocab size) {}'.format(sample_decoder_output.shape))"
   ]
  },
  {
   "cell_type": "code",
   "execution_count": 23,
   "metadata": {},
   "outputs": [],
   "source": [
    "optimizer = tf.keras.optimizers.Adam()\n",
    "loss_object = tf.keras.losses.SparseCategoricalCrossentropy(\n",
    "    from_logits=True, reduction='none')\n",
    "\n",
    "def loss_function(real, pred):\n",
    "  mask = tf.math.logical_not(tf.math.equal(real, 0))\n",
    "  loss_ = loss_object(real, pred)\n",
    "\n",
    "  mask = tf.cast(mask, dtype=loss_.dtype)\n",
    "  loss_ *= mask\n",
    "\n",
    "  return tf.reduce_mean(loss_)"
   ]
  },
  {
   "cell_type": "code",
   "execution_count": 24,
   "metadata": {},
   "outputs": [],
   "source": [
    "checkpoint_dir = './training_checkpoints'\n",
    "checkpoint_prefix = os.path.join(checkpoint_dir, \"ckpt\")\n",
    "checkpoint = tf.train.Checkpoint(optimizer=optimizer,\n",
    "                                 encoder=encoder,\n",
    "                                 decoder=decoder)"
   ]
  },
  {
   "cell_type": "code",
   "execution_count": 25,
   "metadata": {},
   "outputs": [],
   "source": [
    "@tf.function\n",
    "def train_step(inp, targ, enc_hidden):\n",
    "    loss = 0\n",
    "\n",
    "    with tf.GradientTape() as tape:\n",
    "        enc_output, enc_hidden = encoder(inp, enc_hidden)\n",
    "\n",
    "        dec_hidden = enc_hidden\n",
    "\n",
    "        dec_input = tf.expand_dims([targ_lang.word_index['<start>']] * BATCH_SIZE, 1)\n",
    "\n",
    "        # Teacher forcing - feeding the target as the next input\n",
    "        for t in range(1, targ.shape[1]):\n",
    "            # passing enc_output to the decoder\n",
    "            predictions, dec_hidden, _ = decoder(dec_input, dec_hidden, enc_output)\n",
    "\n",
    "            loss += loss_function(targ[:, t], predictions)\n",
    "\n",
    "            # using teacher forcing\n",
    "            dec_input = tf.expand_dims(targ[:, t], 1)\n",
    "\n",
    "\n",
    "    batch_loss = (loss / int(targ.shape[1]))\n",
    "    variables = encoder.trainable_variables + decoder.trainable_variables\n",
    "    gradients = tape.gradient(loss, variables)\n",
    "    optimizer.apply_gradients(zip(gradients, variables))\n",
    "    return batch_loss"
   ]
  },
  {
   "cell_type": "code",
   "execution_count": null,
   "metadata": {},
   "outputs": [],
   "source": [
    "EPOCHS = 10\n",
    "\n",
    "\n",
    "for epoch in range(EPOCHS):\n",
    "    start = time.time()\n",
    "    enc_hidden = encoder.initialize_hidden_state()\n",
    "    total_loss = 0\n",
    "    \n",
    "    for (batch, (inp, targ)) in enumerate(dataset.take(steps_per_epoch)):\n",
    "        batch_loss = train_step(inp, targ, enc_hidden)\n",
    "        total_loss += batch_loss\n",
    "\n",
    "    if batch % 100 == 0:\n",
    "        print('Epoch {} Batch {} Loss {:.4f}'.format(epoch + 1,\n",
    "                                                   batch,\n",
    "                                                   batch_loss.numpy()))\n",
    "    # saving (checkpoint) the model every 2 epochs\n",
    "    if (epoch + 1) % 2 == 0:\n",
    "        checkpoint.save(file_prefix = checkpoint_prefix)\n",
    "\n",
    "    print('Epoch {} Loss {:.4f}'.format(epoch + 1,\n",
    "                                      total_loss / steps_per_epoch))\n",
    "    print('Time taken for 1 epoch {} sec\\n'.format(time.time() - start))"
   ]
  },
  {
   "cell_type": "code",
   "execution_count": null,
   "metadata": {},
   "outputs": [],
   "source": []
  }
 ],
 "metadata": {
  "kernelspec": {
   "display_name": "Python 3",
   "language": "python",
   "name": "python3"
  },
  "language_info": {
   "codemirror_mode": {
    "name": "ipython",
    "version": 3
   },
   "file_extension": ".py",
   "mimetype": "text/x-python",
   "name": "python",
   "nbconvert_exporter": "python",
   "pygments_lexer": "ipython3",
   "version": "3.7.4"
  }
 },
 "nbformat": 4,
 "nbformat_minor": 4
}
